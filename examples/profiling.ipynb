{
 "cells": [
  {
   "cell_type": "code",
   "execution_count": 1,
   "metadata": {
    "collapsed": true
   },
   "outputs": [],
   "source": [
    "%load_ext snakeviz"
   ]
  },
  {
   "cell_type": "code",
   "execution_count": 2,
   "outputs": [
    {
     "data": {
      "text/plain": "⎡                                                                         3⎤\n⎣\\dot x = x⋅y_{1}, \\dot y_{0} = -x⋅y_{0}⋅y_{1}, \\dot y_{1} = x⋅y_{0}⋅y_{1} ⎦",
      "image/png": "[encoded data removed]",
      "text/latex": "$\\displaystyle \\left[ \\dot x = x y_{1}, \\  \\dot y_{0} = - x y_{0} y_{1}, \\  \\dot y_{1} = x y_{0} y_{1}^{3}\\right]$"
     },
     "execution_count": 2,
     "metadata": {},
     "output_type": "execute_result"
    }
   ],
   "source": [
    "import sympy as sp\n",
    "from qbee import *\n",
    "\n",
    "sp.init_printing()\n",
    "\n",
    "x = sp.symbols('x')\n",
    "x_dot = derivatives(x)\n",
    "\n",
    "system = EquationSystem([\n",
    "    sp.Eq(x_dot, x / (1 + sp.exp(-x)))\n",
    "])\n",
    "poly_system = polynomialize(system)\n",
    "poly_system.equations"
   ],
   "metadata": {
    "collapsed": false,
    "pycharm": {
     "name": "#%%\n"
    }
   }
  },
  {
   "cell_type": "code",
   "execution_count": 3,
   "outputs": [
    {
     "name": "stderr",
     "output_type": "stream",
     "text": [
      "System nodes queued:  99%|██████████████████████████████▌| 81/82 [00:07<00:00, 10.63node/s, Current max depth level: 2]\n"
     ]
    },
    {
     "name": "stdout",
     "output_type": "stream",
     "text": [
      " \n",
      "*** Profile stats marshalled to file 'C:\\\\Users\\\\9E8E~1\\\\AppData\\\\Local\\\\Temp\\\\tmpo9cddwi8'. \n",
      "Opening SnakeViz in a new tab...\n"
     ]
    }
   ],
   "source": [
    "%%snakeviz -t\n",
    "\n",
    "ql_result = quadratize(poly_system, mode=\"optimal\", method_optimal=\"iddfs\", debug='info',\n",
    "                                heuristics='summary-monomial-degree', initial_max_depth=2)\n",
    "\n"
   ],
   "metadata": {
    "collapsed": false,
    "pycharm": {
     "name": "#%%\n"
    }
   }
  }
 ],
 "metadata": {
  "kernelspec": {
   "name": "python3",
   "language": "python",
   "display_name": "Python 3"
  },
  "language_info": {
   "codemirror_mode": {
    "name": "ipython",
    "version": 2
   },
   "file_extension": ".py",
   "mimetype": "text/x-python",
   "name": "python",
   "nbconvert_exporter": "python",
   "pygments_lexer": "ipython2",
   "version": "2.7.6"
  }
 },
 "nbformat": 4,
 "nbformat_minor": 0
}