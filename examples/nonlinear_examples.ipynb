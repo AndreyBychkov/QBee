{
 "cells": [
  {
   "cell_type": "code",
   "execution_count": 1,
   "metadata": {
    "collapsed": true
   },
   "outputs": [
    {
     "name": "stderr",
     "output_type": "stream",
     "text": [
      "C:\\Users\\а\\IdeaProjects\\QBee\\PythonPackage\\quadratic_linearization.py:9: TqdmExperimentalWarning: Using `tqdm.autonotebook.tqdm` in notebook mode. Use `tqdm.tqdm` instead to force console mode (e.g. in jupyter console)\n",
      "  from tqdm.autonotebook import tqdm\n"
     ]
    }
   ],
   "source": [
    "import sympy as sp\n",
    "from qbee import *\n",
    "\n",
    "sp.init_printing()\n",
    "\n",
    "x, y, z, w = sp.symbols('x, y, z, w')\n",
    "x_dot, y_dot, z_dot, w_dot = derivatives('x, y, z, w')"
   ]
  },
  {
   "cell_type": "markdown",
   "source": [
    "# Arneodo-Coullet-Tresser system"
   ],
   "metadata": {
    "collapsed": false,
    "pycharm": {
     "name": "#%% md\n"
    }
   }
  },
  {
   "cell_type": "code",
   "execution_count": 2,
   "outputs": [
    {
     "data": {
      "text/plain": "⎡                                                    3⎤\n⎣\\dot x = y, \\dot y = z, \\dot z = a⋅x - b⋅y - c⋅z - x ⎦",
      "image/png": "[encoded data removed]",
      "text/latex": "$\\displaystyle \\left[ \\dot x = y, \\  \\dot y = z, \\  \\dot z = a x - b y - c z - x^{3}\\right]$"
     },
     "execution_count": 2,
     "metadata": {},
     "output_type": "execute_result"
    }
   ],
   "source": [
    "a, b, c = sp.symbols('a, b, c')\n",
    "\n",
    "system = EquationSystem([\n",
    "    sp.Eq(x_dot, y),\n",
    "    sp.Eq(y_dot, z),\n",
    "    sp.Eq(z_dot, a*x - b*y - c*z - x**3)\n",
    "], parameter_variables=[a, b, c])\n",
    "\n",
    "system.equations"
   ],
   "metadata": {
    "collapsed": false,
    "pycharm": {
     "name": "#%%\n"
    }
   }
  },
  {
   "cell_type": "code",
   "execution_count": 3,
   "outputs": [
    {
     "data": {
      "text/plain": "[\\dot x = y, \\dot y = z, \\dot z = a⋅x - b⋅y - c⋅z - x⋅y_{0}, \\dot y_{0} = 2⋅x⋅\ny]",
      "image/png": "[encoded data removed]",
      "text/latex": "$\\displaystyle \\left[ \\dot x = y, \\  \\dot y = z, \\  \\dot z = a x - b y - c z - x y_{0}, \\  \\dot y_{0} = 2 x y\\right]$"
     },
     "execution_count": 3,
     "metadata": {},
     "output_type": "execute_result"
    }
   ],
   "source": [
    "quad_result = quadratize(system, limit_depth=1)\n",
    "quad_result.system.equations"
   ],
   "metadata": {
    "collapsed": false,
    "pycharm": {
     "name": "#%%\n"
    }
   }
  },
  {
   "cell_type": "code",
   "execution_count": 4,
   "outputs": [
    {
     "data": {
      "text/plain": "⎛ 2 ⎞\n⎝x ,⎠",
      "image/png": "[encoded data removed]",
      "text/latex": "$\\displaystyle \\left( x^{2}\\right)$"
     },
     "execution_count": 4,
     "metadata": {},
     "output_type": "execute_result"
    }
   ],
   "source": [
    "quad_result.replacements"
   ],
   "metadata": {
    "collapsed": false,
    "pycharm": {
     "name": "#%%\n"
    }
   }
  },
  {
   "cell_type": "code",
   "execution_count": 5,
   "outputs": [
    {
     "data": {
      "text/plain": "steps: 2\nMethod's name: ID-DFS\ndepth: 1"
     },
     "execution_count": 5,
     "metadata": {},
     "output_type": "execute_result"
    }
   ],
   "source": [
    "quad_result.statistics"
   ],
   "metadata": {
    "collapsed": false,
    "pycharm": {
     "name": "#%%\n"
    }
   }
  },
  {
   "cell_type": "markdown",
   "source": [
    "# Modified Chua's circuit"
   ],
   "metadata": {
    "collapsed": false,
    "pycharm": {
     "name": "#%% md\n"
    }
   }
  },
  {
   "cell_type": "code",
   "execution_count": 6,
   "outputs": [
    {
     "data": {
      "text/plain": "⎡                3                                               ⎤\n⎢           2⋅a⋅x    a⋅x                                         ⎥\n⎢\\dot x = - ────── + ─── + a⋅y, \\dot y = x - y + z, \\dot z = -b⋅y⎥\n⎣             7       7                                          ⎦",
      "image/png": "[encoded data removed]",
      "text/latex": "$\\displaystyle \\left[ \\dot x = - \\frac{2 a x^{3}}{7} + \\frac{a x}{7} + a y, \\  \\dot y = x - y + z, \\  \\dot z = - b y\\right]$"
     },
     "execution_count": 6,
     "metadata": {},
     "output_type": "execute_result"
    }
   ],
   "source": [
    "a, b= sp.symbols('a, b')\n",
    "\n",
    "system = EquationSystem([\n",
    "    sp.Eq(x_dot, a * (y - sp.Rational(1, 7) * (2*x**3 - x))),\n",
    "    sp.Eq(y_dot, x - y + z),\n",
    "    sp.Eq(z_dot, -b*y)\n",
    "], parameter_variables=[a, b])\n",
    "\n",
    "system.equations"
   ],
   "metadata": {
    "collapsed": false,
    "pycharm": {
     "name": "#%%\n"
    }
   }
  },
  {
   "cell_type": "code",
   "execution_count": 7,
   "outputs": [
    {
     "data": {
      "text/plain": "Eq(\\dot x, -2*a*x*y_{0}/7 + a*x/7 + a*y)\nEq(\\dot y, x - y + z)\nEq(\\dot z, -b*y)\nEq(\\dot y_{0}, 2*a*x*y - 4*a*y_{0}**2/7 + 2*a*y_{0}/7)"
     },
     "execution_count": 7,
     "metadata": {},
     "output_type": "execute_result"
    }
   ],
   "source": [
    "quad_result = quadratize(system, limit_depth=1)\n",
    "quad_result.system"
   ],
   "metadata": {
    "collapsed": false,
    "pycharm": {
     "name": "#%%\n"
    }
   }
  },
  {
   "cell_type": "code",
   "execution_count": 8,
   "outputs": [
    {
     "data": {
      "text/plain": "⎡                                                                             \n⎢           2⋅a⋅x⋅y_{0}   a⋅x                                                 \n⎢\\dot x = - ─────────── + ─── + a⋅y, \\dot y = x - y + z, \\dot z = -b⋅y, \\dot y\n⎣                7         7                                                  \n\n                          2            ⎤\n                 4⋅a⋅y_{0}    2⋅a⋅y_{0}⎥\n_{0} = 2⋅a⋅x⋅y - ────────── + ─────────⎥\n                     7            7    ⎦",
      "image/png": "[encoded data removed]",
      "text/latex": "$\\displaystyle \\left[ \\dot x = - \\frac{2 a x y_{0}}{7} + \\frac{a x}{7} + a y, \\  \\dot y = x - y + z, \\  \\dot z = - b y, \\  \\dot y_{0} = 2 a x y - \\frac{4 a y_{0}^{2}}{7} + \\frac{2 a y_{0}}{7}\\right]$"
     },
     "execution_count": 8,
     "metadata": {},
     "output_type": "execute_result"
    }
   ],
   "source": [
    "quad_result.system.equations"
   ],
   "metadata": {
    "collapsed": false,
    "pycharm": {
     "name": "#%%\n"
    }
   }
  },
  {
   "cell_type": "code",
   "execution_count": 9,
   "outputs": [
    {
     "data": {
      "text/plain": "⎛ 2 ⎞\n⎝x ,⎠",
      "image/png": "[encoded data removed]",
      "text/latex": "$\\displaystyle \\left( x^{2}\\right)$"
     },
     "execution_count": 9,
     "metadata": {},
     "output_type": "execute_result"
    }
   ],
   "source": [
    "quad_result.replacements"
   ],
   "metadata": {
    "collapsed": false,
    "pycharm": {
     "name": "#%%\n"
    }
   }
  },
  {
   "cell_type": "code",
   "execution_count": 10,
   "outputs": [
    {
     "data": {
      "text/plain": "steps: 2\nMethod's name: ID-DFS\ndepth: 1"
     },
     "execution_count": 10,
     "metadata": {},
     "output_type": "execute_result"
    }
   ],
   "source": [
    "quad_result.statistics"
   ],
   "metadata": {
    "collapsed": false,
    "pycharm": {
     "name": "#%%\n"
    }
   }
  },
  {
   "cell_type": "markdown",
   "source": [
    "# Rabinovich - Fabrikant equations"
   ],
   "metadata": {
    "collapsed": false,
    "pycharm": {
     "name": "#%% md\n"
    }
   }
  },
  {
   "cell_type": "code",
   "execution_count": 11,
   "outputs": [
    {
     "data": {
      "text/plain": "⎡                2                              3                             \n⎣\\dot x = a⋅x + x ⋅y + y⋅z - y, \\dot y = a⋅y - x  + 3⋅x⋅z + x, \\dot z = -2⋅b⋅z\n\n          ⎤\n - 2⋅x⋅y⋅z⎦",
      "image/png": "[encoded data removed]",
      "text/latex": "$\\displaystyle \\left[ \\dot x = a x + x^{2} y + y z - y, \\  \\dot y = a y - x^{3} + 3 x z + x, \\  \\dot z = - 2 b z - 2 x y z\\right]$"
     },
     "execution_count": 11,
     "metadata": {},
     "output_type": "execute_result"
    }
   ],
   "source": [
    "a, b= sp.symbols('a, b')\n",
    "\n",
    "system = EquationSystem([\n",
    "    sp.Eq(x_dot, y * (z - 1 + x**2) + a*x),\n",
    "    sp.Eq(y_dot, x * (3*z + 1 - x**2) + a*y),\n",
    "    sp.Eq(z_dot, -2*z * (b + x*y))\n",
    "], parameter_variables=[a, b])\n",
    "\n",
    "system.equations"
   ],
   "metadata": {
    "collapsed": false,
    "pycharm": {
     "name": "#%%\n"
    }
   }
  },
  {
   "cell_type": "code",
   "execution_count": 12,
   "outputs": [
    {
     "data": {
      "text/plain": "HBox(children=(FloatProgress(value=1.0, bar_style='info', description='Systems processed: ', max=1.0, style=Pr…",
      "application/vnd.jupyter.widget-view+json": {
       "version_major": 2,
       "version_minor": 0,
       "model_id": "e9fba5beac354ffea476589dfb3d19df"
      }
     },
     "metadata": {},
     "output_type": "display_data"
    },
    {
     "data": {
      "text/plain": "HBox(children=(FloatProgress(value=1.0, bar_style='info', description='Nodes in queue: ', max=1.0, style=Progr…",
      "application/vnd.jupyter.widget-view+json": {
       "version_major": 2,
       "version_minor": 0,
       "model_id": "e7d13f533dba4c40aa955f6a822a594d"
      }
     },
     "metadata": {},
     "output_type": "display_data"
    },
    {
     "data": {
      "text/plain": "HBox(children=(FloatProgress(value=1.0, bar_style='info', description='Nodes in higher depth queue: ', max=1.0…",
      "application/vnd.jupyter.widget-view+json": {
       "version_major": 2,
       "version_minor": 0,
       "model_id": "8bbad40d0214475b8537ac0a74473c6d"
      }
     },
     "metadata": {},
     "output_type": "display_data"
    },
    {
     "name": "stdout",
     "output_type": "stream",
     "text": [
      "\n",
      "\n",
      "\n"
     ]
    },
    {
     "data": {
      "text/plain": "⎡                                                                             \n⎣\\dot x = a⋅x + y⋅y_{0} + y⋅z - y, \\dot y = a⋅y - x⋅y_{0} + 3⋅x⋅z + x, \\dot z \n\n                                                                              \n= -2⋅b⋅z - 2⋅y_{1}⋅z, \\dot y_{0} = 2⋅a⋅y_{0} + 2⋅y_{0}⋅y_{1} + 2⋅y_{1}⋅z - 2⋅y\n\n                                    2                                         \n_{1}, \\dot y_{1} = 2⋅a⋅y_{1} - y_{0}  + y_{0}⋅y_{2} + 3⋅y_{0}⋅z + y_{0} + y_{2\n\n                                                                         ⎤\n}⋅z - y_{2}, \\dot y_{2} = 2⋅a⋅y_{2} - 2⋅y_{0}⋅y_{1} + 6⋅y_{1}⋅z + 2⋅y_{1}⎦",
      "image/png": "[encoded data removed]",
      "text/latex": "$\\displaystyle \\left[ \\dot x = a x + y y_{0} + y z - y, \\  \\dot y = a y - x y_{0} + 3 x z + x, \\  \\dot z = - 2 b z - 2 y_{1} z, \\  \\dot y_{0} = 2 a y_{0} + 2 y_{0} y_{1} + 2 y_{1} z - 2 y_{1}, \\  \\dot y_{1} = 2 a y_{1} - y_{0}^{2} + y_{0} y_{2} + 3 y_{0} z + y_{0} + y_{2} z - y_{2}, \\  \\dot y_{2} = 2 a y_{2} - 2 y_{0} y_{1} + 6 y_{1} z + 2 y_{1}\\right]$"
     },
     "execution_count": 12,
     "metadata": {},
     "output_type": "execute_result"
    }
   ],
   "source": [
    "quad_result = quadratize(system, initial_max_depth=3, limit_depth=3, debug='info')\n",
    "quad_result.system.equations"
   ],
   "metadata": {
    "collapsed": false,
    "pycharm": {
     "name": "#%%\n"
    }
   }
  },
  {
   "cell_type": "code",
   "execution_count": 13,
   "outputs": [
    {
     "data": {
      "text/plain": "Eq(\\dot x, a*x + y*y_{0} + y*z - y)\nEq(\\dot y, a*y - x*y_{0} + 3*x*z + x)\nEq(\\dot z, -2*b*z - 2*y_{1}*z)\nEq(\\dot y_{0}, 2*a*y_{0} + 2*y_{0}*y_{1} + 2*y_{1}*z - 2*y_{1})\nEq(\\dot y_{1}, 2*a*y_{1} - y_{0}**2 + y_{0}*y_{2} + 3*y_{0}*z + y_{0} + y_{2}*z - y_{2})\nEq(\\dot y_{2}, 2*a*y_{2} - 2*y_{0}*y_{1} + 6*y_{1}*z + 2*y_{1})"
     },
     "execution_count": 13,
     "metadata": {},
     "output_type": "execute_result"
    }
   ],
   "source": [
    "quad_result.system"
   ],
   "metadata": {
    "collapsed": false,
    "pycharm": {
     "name": "#%%\n"
    }
   }
  },
  {
   "cell_type": "code",
   "execution_count": 14,
   "outputs": [
    {
     "data": {
      "text/plain": "⎛ 2        2⎞\n⎝y , x⋅y, x ⎠",
      "image/png": "[encoded data removed]",
      "text/latex": "$\\displaystyle \\left( y^{2}, \\  x y, \\  x^{2}\\right)$"
     },
     "execution_count": 14,
     "metadata": {},
     "output_type": "execute_result"
    }
   ],
   "source": [
    "quad_result.replacements"
   ],
   "metadata": {
    "collapsed": false,
    "pycharm": {
     "name": "#%%\n"
    }
   }
  },
  {
   "cell_type": "code",
   "execution_count": 15,
   "outputs": [
    {
     "data": {
      "text/plain": "steps: 79\nMethod's name: ID-DFS\ndepth: 3"
     },
     "execution_count": 15,
     "metadata": {},
     "output_type": "execute_result"
    }
   ],
   "source": [
    "quad_result.statistics"
   ],
   "metadata": {
    "collapsed": false,
    "pycharm": {
     "name": "#%%\n"
    }
   }
  },
  {
   "cell_type": "markdown",
   "source": [
    "# Two-parameter model for blue-sky catastrophe"
   ],
   "metadata": {
    "collapsed": false,
    "pycharm": {
     "name": "#%% md\n"
    }
   }
  },
  {
   "cell_type": "code",
   "execution_count": 18,
   "outputs": [
    {
     "data": {
      "text/plain": "⎡                   3         2          2          2                        3\n⎣\\dot x = a⋅x - 10⋅x  - 10⋅x⋅y  + 2⋅x + y  + 2⋅y + z , \\dot y = a⋅y - 4⋅x - y \n\n      2      2          3    2                 2      2    2⎤\n - 3⋅y  - y⋅z  - 2⋅y - z  - z , \\dot z = -b + x  + y⋅z  + z ⎦",
      "image/png": "[encoded data removed]",
      "text/latex": "$\\displaystyle \\left[ \\dot x = a x - 10 x^{3} - 10 x y^{2} + 2 x + y^{2} + 2 y + z^{2}, \\  \\dot y = a y - 4 x - y^{3} - 3 y^{2} - y z^{2} - 2 y - z^{3} - z^{2}, \\  \\dot z = - b + x^{2} + y z^{2} + z^{2}\\right]$"
     },
     "execution_count": 18,
     "metadata": {},
     "output_type": "execute_result"
    }
   ],
   "source": [
    "a, b, c, d = sp.symbols('a, b, c, d')\n",
    "\n",
    "system = EquationSystem([\n",
    "    sp.Eq(x_dot, (2 + a - 10*(x**2 + y**2)) * x + y**2 + 2*y + z**2),\n",
    "    sp.Eq(y_dot, -z**3 - (1 + y) * (y**2 + 2*y + z**2) - 4*x + a*y),\n",
    "    sp.Eq(z_dot,  (1 + y) * z**2 + x**2 - b)\n",
    "], parameter_variables=[a, b])\n",
    "\n",
    "system.equations"
   ],
   "metadata": {
    "collapsed": false,
    "pycharm": {
     "name": "#%%\n"
    }
   }
  },
  {
   "cell_type": "code",
   "execution_count": 19,
   "outputs": [
    {
     "data": {
      "text/plain": "HBox(children=(FloatProgress(value=1.0, bar_style='info', description='Systems processed: ', max=1.0, style=Pr…",
      "application/vnd.jupyter.widget-view+json": {
       "version_major": 2,
       "version_minor": 0,
       "model_id": "536cea6c9d1240cd917200c52735a766"
      }
     },
     "metadata": {},
     "output_type": "display_data"
    },
    {
     "data": {
      "text/plain": "HBox(children=(FloatProgress(value=1.0, bar_style='info', description='Nodes in queue: ', max=1.0, style=Progr…",
      "application/vnd.jupyter.widget-view+json": {
       "version_major": 2,
       "version_minor": 0,
       "model_id": "8d340b84ccb144d9a9c03e3b21a3d7b0"
      }
     },
     "metadata": {},
     "output_type": "display_data"
    },
    {
     "data": {
      "text/plain": "HBox(children=(FloatProgress(value=1.0, bar_style='info', description='Nodes in higher depth queue: ', max=1.0…",
      "application/vnd.jupyter.widget-view+json": {
       "version_major": 2,
       "version_minor": 0,
       "model_id": "2f9a3bbd2c9f48809d6a8d551e8446e3"
      }
     },
     "metadata": {},
     "output_type": "display_data"
    },
    {
     "name": "stdout",
     "output_type": "stream",
     "text": [
      "\n",
      "\n",
      "\n"
     ]
    },
    {
     "data": {
      "text/plain": "Eq(\\dot x, a*x - 10*x*y_{1} - 10*x*y_{4} + 2*x + 2*y + y_{0} + y_{1})\nEq(\\dot y, a*y - 4*x - y*y_{1} - 2*y - y_{0} - 3*y_{1} - y_{2} - y_{3})\nEq(\\dot z, -b + y_{0} + y_{3} + y_{4})\nEq(\\dot y_{0}, -2*b*z + 2*y*y_{2} + 2*y_{2} + 2*y_{4}*z)\nEq(\\dot y_{1}, 2*a*y_{1} - 8*x*y - 6*y*y_{1} - 2*y*y_{2} - 2*y_{0}*y_{1} - 2*y_{1}**2 - 4*y_{1} - 2*y_{3})\nEq(\\dot y_{2}, -3*b*y_{0} + y_{0}**2 + y_{0}*y_{3} + 3*y_{0}*y_{4} + 2*y_{2}*y_{5} + 2*y_{2}*z)\nEq(\\dot y_{3}, a*y_{3} - 2*b*y_{5} - 4*x*y_{0} + 2*y*y_{2} - y_{0}**2 - 3*y_{0}*y_{1} - y_{0}*y_{2} - y_{0}*y_{3} + 2*y_{1}*y_{2} - y_{1}*y_{3} - 2*y_{3} + 2*y_{4}*y_{5})\nEq(\\dot y_{4}, 2*a*y_{4} + 4*x*y + 2*x*y_{0} + 2*x*y_{1} - 20*y_{1}*y_{4} - 20*y_{4}**2 + 4*y_{4})\nEq(\\dot y_{5}, a*y_{5} - b*y - 4*x*z + y*y_{3} + y*y_{4} - y_{1}*y_{5} - 3*y_{1}*z - y_{2}*z - y_{2} - y_{3}*z + y_{3} - 2*y_{5})"
     },
     "execution_count": 19,
     "metadata": {},
     "output_type": "execute_result"
    }
   ],
   "source": [
    "quad_result = quadratize(system, initial_max_depth=6, limit_depth=6, debug='info')\n",
    "quad_result.system"
   ],
   "metadata": {
    "collapsed": false,
    "pycharm": {
     "name": "#%%\n"
    }
   }
  },
  {
   "cell_type": "code",
   "execution_count": 20,
   "outputs": [
    {
     "data": {
      "text/plain": "⎛ 2   2   2                       ⎞\n⎝x , y , z , y_{0}⋅z, y⋅z, y⋅y_{0}⎠",
      "image/png": "[encoded data removed]",
      "text/latex": "$\\displaystyle \\left( x^{2}, \\  y^{2}, \\  z^{2}, \\  y_{0} z, \\  y z, \\  y y_{0}\\right)$"
     },
     "execution_count": 20,
     "metadata": {},
     "output_type": "execute_result"
    }
   ],
   "source": [
    "quad_result.replacements"
   ],
   "metadata": {
    "collapsed": false,
    "pycharm": {
     "name": "#%%\n"
    }
   }
  },
  {
   "cell_type": "code",
   "execution_count": 21,
   "outputs": [
    {
     "data": {
      "text/plain": "steps: 9\nMethod's name: ID-DFS\ndepth: 6"
     },
     "execution_count": 21,
     "metadata": {},
     "output_type": "execute_result"
    }
   ],
   "source": [
    "quad_result.statistics\n"
   ],
   "metadata": {
    "collapsed": false,
    "pycharm": {
     "name": "#%%\n"
    }
   }
  },
  {
   "cell_type": "markdown",
   "source": [
    "# 4D Qi-Du-Chen-Chen-Yuan system"
   ],
   "metadata": {
    "collapsed": false
   }
  },
  {
   "cell_type": "code",
   "execution_count": 22,
   "outputs": [
    {
     "data": {
      "text/plain": "[\\dot x = -a⋅x + a⋅y + w⋅y⋅z, \\dot y = b⋅x + b⋅z - w⋅x⋅z, \\dot z = -c⋅z + w⋅x⋅\ny, \\dot w = -d⋅w + x⋅y⋅z]",
      "image/png": "[encoded data removed]",
      "text/latex": "$\\displaystyle \\left[ \\dot x = - a x + a y + w y z, \\  \\dot y = b x + b z - w x z, \\  \\dot z = - c z + w x y, \\  \\dot w = - d w + x y z\\right]$"
     },
     "execution_count": 22,
     "metadata": {},
     "output_type": "execute_result"
    }
   ],
   "source": [
    "a, b, c, d = sp.symbols('a, b, c, d')\n",
    "\n",
    "system = EquationSystem([\n",
    "    sp.Eq(x_dot, a*(y - x) + y*z*w),\n",
    "    sp.Eq(y_dot, b*(x + z) - x*z*w),\n",
    "    sp.Eq(z_dot, -c*z + x*y*w),\n",
    "    sp.Eq(w_dot, -d*w + x*y*z)\n",
    "], parameter_variables=[a, b, c, d])\n",
    "\n",
    "system.equations"
   ],
   "metadata": {
    "collapsed": false,
    "pycharm": {
     "name": "#%%\n"
    }
   }
  },
  {
   "cell_type": "code",
   "execution_count": 23,
   "outputs": [
    {
     "data": {
      "text/plain": "HBox(children=(FloatProgress(value=1.0, bar_style='info', description='Systems processed: ', max=1.0, style=Pr…",
      "application/vnd.jupyter.widget-view+json": {
       "version_major": 2,
       "version_minor": 0,
       "model_id": "8976488c92cd449bbd0505d24c4fc156"
      }
     },
     "metadata": {},
     "output_type": "display_data"
    },
    {
     "data": {
      "text/plain": "HBox(children=(FloatProgress(value=1.0, bar_style='info', description='Nodes in queue: ', max=1.0, style=Progr…",
      "application/vnd.jupyter.widget-view+json": {
       "version_major": 2,
       "version_minor": 0,
       "model_id": "38f6ddeb890245c098f075b7ace31d61"
      }
     },
     "metadata": {},
     "output_type": "display_data"
    },
    {
     "data": {
      "text/plain": "HBox(children=(FloatProgress(value=1.0, bar_style='info', description='Nodes in higher depth queue: ', max=1.0…",
      "application/vnd.jupyter.widget-view+json": {
       "version_major": 2,
       "version_minor": 0,
       "model_id": "27301ee4dead4a10a2e7861821e7eea5"
      }
     },
     "metadata": {},
     "output_type": "display_data"
    },
    {
     "name": "stdout",
     "output_type": "stream",
     "text": [
      "\n",
      "\n",
      "\n"
     ]
    },
    {
     "data": {
      "text/plain": "Eq(\\dot x, -a*x + a*y + y_{1}*z)\nEq(\\dot y, b*x + b*z - w*y_{0})\nEq(\\dot z, -c*z + x*y_{1})\nEq(\\dot w, -d*w + y*y_{0})\nEq(\\dot y_{0}, a*y*z - a*y_{0} - c*y_{0} + y_{1}*y_{2} + y_{1}*y_{5})\nEq(\\dot y_{1}, b*w*x + b*w*z - d*y_{1} - y_{0}*y_{3} + y_{0}*y_{4})\nEq(\\dot y_{2}, 2*a*x*y - 2*a*y_{2} + 2*y_{0}*y_{1})\nEq(\\dot y_{3}, -2*d*y_{3} + 2*y_{0}*y_{1})\nEq(\\dot y_{4}, 2*b*x*y + 2*b*y*z - 2*y_{0}*y_{1})\nEq(\\dot y_{5}, -2*c*y_{5} + 2*y_{0}*y_{1})"
     },
     "execution_count": 23,
     "metadata": {},
     "output_type": "execute_result"
    }
   ],
   "source": [
    "quad_result = quadratize(system, initial_max_depth=6, limit_depth=6, debug='info')\n",
    "quad_result.system"
   ],
   "metadata": {
    "collapsed": false,
    "pycharm": {
     "name": "#%%\n"
    }
   }
  },
  {
   "cell_type": "code",
   "execution_count": 24,
   "outputs": [
    {
     "data": {
      "text/plain": "⎛ 2        2        2   2⎞\n⎝w , x⋅z, y , w⋅y, z , x ⎠",
      "image/png": "[encoded data removed]",
      "text/latex": "$\\displaystyle \\left( w^{2}, \\  x z, \\  y^{2}, \\  w y, \\  z^{2}, \\  x^{2}\\right)$"
     },
     "execution_count": 24,
     "metadata": {},
     "output_type": "execute_result"
    }
   ],
   "source": [
    "quad_result.replacements"
   ],
   "metadata": {
    "collapsed": false,
    "pycharm": {
     "name": "#%%\n"
    }
   }
  },
  {
   "cell_type": "code",
   "execution_count": 25,
   "outputs": [
    {
     "data": {
      "text/plain": "steps: 52941\nMethod's name: ID-DFS\ndepth: 6"
     },
     "execution_count": 25,
     "metadata": {},
     "output_type": "execute_result"
    }
   ],
   "source": [
    "quad_result.statistics\n"
   ],
   "metadata": {
    "collapsed": false,
    "pycharm": {
     "name": "#%%\n"
    }
   }
  }
 ],
 "metadata": {
  "kernelspec": {
   "display_name": "Python 3",
   "language": "python",
   "name": "python3"
  },
  "language_info": {
   "codemirror_mode": {
    "name": "ipython",
    "version": 2
   },
   "file_extension": ".py",
   "mimetype": "text/x-python",
   "name": "python",
   "nbconvert_exporter": "python",
   "pygments_lexer": "ipython2",
   "version": "2.7.6"
  }
 },
 "nbformat": 4,
 "nbformat_minor": 0
}