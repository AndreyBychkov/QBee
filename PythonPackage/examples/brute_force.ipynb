{
 "cells": [
  {
   "cell_type": "code",
   "execution_count": 1,
   "metadata": {
    "collapsed": true,
    "pycharm": {
     "is_executing": false
    }
   },
   "outputs": [],
   "source": [
    "import sympy as sp\n",
    "from combinations import get_decompositions\n",
    "\n",
    "x, y, z = sp.symbols('x, y, z')\n"
   ]
  },
  {
   "cell_type": "markdown",
   "source": [
    "### Decompositions of $x^2y^3$"
   ],
   "metadata": {
    "collapsed": false,
    "pycharm": {
     "name": "#%% md\n"
    }
   }
  },
  {
   "cell_type": "code",
   "execution_count": 2,
   "outputs": [
    {
     "name": "stdout",
     "text": [
      "(y, x*y, x*y)\n",
      "(x, x*y, y**2)\n",
      "(y, x**2, y**2)\n"
     ],
     "output_type": "stream"
    }
   ],
   "source": [
    "for dec in get_decompositions(sp.poly(x**2 * y**3)):\n",
    "    print(dec)\n",
    "    "
   ],
   "metadata": {
    "collapsed": false,
    "pycharm": {
     "name": "#%%\n",
     "is_executing": false
    }
   }
  },
  {
   "cell_type": "markdown",
   "source": [
    "### Decompositions of $x^2y^2z^2$"
   ],
   "metadata": {
    "collapsed": false,
    "pycharm": {
     "name": "#%% md\n"
    }
   }
  },
  {
   "cell_type": "code",
   "execution_count": 3,
   "outputs": [
    {
     "name": "stdout",
     "text": [
      "(x*y, x*z, y*z)\n",
      "(x**2, y**2, z**2)\n",
      "(x**2, y*z, y*z)\n",
      "(y**2, x*z, x*z)\n",
      "(x*y, x*y, z**2)\n"
     ],
     "output_type": "stream"
    }
   ],
   "source": [
    "for dec in get_decompositions(sp.poly(x**2 * y**2 * z**2)):\n",
    "    print(dec)\n",
    "    "
   ],
   "metadata": {
    "collapsed": false,
    "pycharm": {
     "name": "#%%\n",
     "is_executing": false
    }
   }
  },
  {
   "cell_type": "code",
   "execution_count": null,
   "outputs": [],
   "source": [],
   "metadata": {
    "collapsed": false,
    "pycharm": {
     "name": "#%%\n"
    }
   }
  }
 ],
 "metadata": {
  "kernelspec": {
   "display_name": "Python 3",
   "language": "python",
   "name": "python3"
  },
  "language_info": {
   "codemirror_mode": {
    "name": "ipython",
    "version": 2
   },
   "file_extension": ".py",
   "mimetype": "text/x-python",
   "name": "python",
   "nbconvert_exporter": "python",
   "pygments_lexer": "ipython2",
   "version": "2.7.6"
  },
  "pycharm": {
   "stem_cell": {
    "cell_type": "raw",
    "source": [],
    "metadata": {
     "collapsed": false
    }
   }
  }
 },
 "nbformat": 4,
 "nbformat_minor": 0
}