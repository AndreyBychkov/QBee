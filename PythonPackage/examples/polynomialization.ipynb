{
 "cells": [
  {
   "cell_type": "code",
   "execution_count": 1,
   "metadata": {
    "collapsed": true,
    "pycharm": {
     "name": "#%%\n"
    }
   },
   "outputs": [],
   "source": [
    "import sympy as sp\n",
    "from qbee import *\n",
    "\n",
    "sp.init_printing()"
   ]
  },
  {
   "cell_type": "markdown",
   "source": [
    "# Simple equation polynomialization"
   ],
   "metadata": {
    "collapsed": false,
    "pycharm": {
     "name": "#%% md\n"
    }
   }
  },
  {
   "cell_type": "code",
   "execution_count": 2,
   "outputs": [
    {
     "data": {
      "text/plain": "⎡          sin(x)⎤\n⎣\\dot x = ℯ      ⎦",
      "image/png": "[encoded data removed]",
      "text/latex": "$\\displaystyle \\left[ \\dot x = e^{\\sin{\\left(x \\right)}}\\right]$"
     },
     "execution_count": 2,
     "metadata": {},
     "output_type": "execute_result"
    }
   ],
   "source": [
    "x = sp.Symbol('x')\n",
    "dot_x = make_derivative_symbol(x)\n",
    "\n",
    "system = EquationSystem([\n",
    "    sp.Eq(dot_x, sp.exp(sp.sin(x)))\n",
    "])\n",
    "system.equations"
   ],
   "metadata": {
    "collapsed": false,
    "pycharm": {
     "name": "#%%\n"
    }
   }
  },
  {
   "cell_type": "markdown",
   "source": [
    "### Algebraic"
   ],
   "metadata": {
    "collapsed": false
   }
  },
  {
   "cell_type": "code",
   "execution_count": 3,
   "outputs": [
    {
     "data": {
      "text/plain": "⎡                                         y_{0}⎤\n⎣\\dot x = y_{1}, y_{0} = sin(x), y_{1} = ℯ     ⎦",
      "image/png": "[encoded data removed]",
      "text/latex": "$\\displaystyle \\left[ \\dot x = y_{1}, \\  y_{0} = \\sin{\\left(x \\right)}, \\  y_{1} = e^{y_{0}}\\right]$"
     },
     "execution_count": 3,
     "metadata": {},
     "output_type": "execute_result"
    }
   ],
   "source": [
    "polynomialize(system, mode='algebraic').equations"
   ],
   "metadata": {
    "collapsed": false,
    "pycharm": {
     "name": "#%%\n"
    }
   }
  },
  {
   "cell_type": "markdown",
   "source": [
    "### Differential"
   ],
   "metadata": {
    "collapsed": false,
    "pycharm": {
     "name": "#%% md\n"
    }
   }
  },
  {
   "cell_type": "code",
   "execution_count": 4,
   "outputs": [
    {
     "data": {
      "text/plain": "⎡                                                            2                \n⎣\\dot x = y_{1}, \\dot y_{0} = y_{1}⋅y_{2}, \\dot y_{1} = y_{1} ⋅y_{2}, \\dot y_{\n\n                 ⎤\n2} = -y_{0}⋅y_{1}⎦",
      "image/png": "[encoded data removed]",
      "text/latex": "$\\displaystyle \\left[ \\dot x = y_{1}, \\  \\dot y_{0} = y_{1} y_{2}, \\  \\dot y_{1} = y_{1}^{2} y_{2}, \\  \\dot y_{2} = - y_{0} y_{1}\\right]$"
     },
     "execution_count": 4,
     "metadata": {},
     "output_type": "execute_result"
    }
   ],
   "source": [
    "polynomialize(system, mode='differential').equations"
   ],
   "metadata": {
    "collapsed": false,
    "pycharm": {
     "name": "#%%\n"
    }
   }
  },
  {
   "cell_type": "markdown",
   "source": [
    "# Complex equation polynomialization"
   ],
   "metadata": {
    "collapsed": false,
    "pycharm": {
     "name": "#%% md\n",
     "is_executing": false
    }
   }
  },
  {
   "cell_type": "code",
   "execution_count": 5,
   "outputs": [
    {
     "data": {
      "text/plain": "⎡          8      y                                  2               cos(x)   \n⎣\\dot x = x  + y⋅ℯ  + sin(x)⋅cos(x) - 1, \\dot y = - y ⋅sin(x) + y - ℯ       + \n\n ⎤\n1⎦",
      "image/png": "[encoded data removed]",
      "text/latex": "$\\displaystyle \\left[ \\dot x = x^{8} + y e^{y} + \\sin{\\left(x \\right)} \\cos{\\left(x \\right)} - 1, \\  \\dot y = - y^{2} \\sin{\\left(x \\right)} + y - e^{\\cos{\\left(x \\right)}} + 1\\right]$"
     },
     "execution_count": 5,
     "metadata": {},
     "output_type": "execute_result"
    }
   ],
   "source": [
    "x, y = sp.symbols('x, y')\n",
    "dot_x = make_derivative_symbol(x)\n",
    "dot_y = make_derivative_symbol(y)\n",
    "\n",
    "system = EquationSystem([\n",
    "    sp.Eq(dot_x, x**8 + sp.sin(x)*sp.cos(x) + y*sp.exp(y) - 1),\n",
    "    sp.Eq(dot_y, y + 1 - y**2 * sp.sin(x) - sp.exp(sp.cos(x)))\n",
    "])\n",
    "system.equations"
   ],
   "metadata": {
    "collapsed": false,
    "pycharm": {
     "name": "#%%\n"
    }
   }
  },
  {
   "cell_type": "markdown",
   "source": [
    "### Algebraic"
   ],
   "metadata": {
    "collapsed": false,
    "pycharm": {
     "name": "#%% md\n",
     "is_executing": false
    }
   }
  },
  {
   "cell_type": "code",
   "source": [
    "polynomialize(system, mode='algebraic').equations"
   ],
   "metadata": {
    "collapsed": false,
    "pycharm": {
     "name": "#%%\n"
    }
   },
   "execution_count": 6,
   "outputs": [
    {
     "data": {
      "text/plain": "⎡          8                                          2                       \n⎣\\dot x = x  + y⋅y_{0} + y_{1}⋅y_{2} - 1, \\dot y = - y ⋅y_{2} + y - y_{3} + 1,\n\n          y                                           y_{1}⎤\n y_{0} = ℯ , y_{1} = cos(x), y_{2} = sin(x), y_{3} = ℯ     ⎦",
      "image/png": "[encoded data removed]",
      "text/latex": "$\\displaystyle \\left[ \\dot x = x^{8} + y y_{0} + y_{1} y_{2} - 1, \\  \\dot y = - y^{2} y_{2} + y - y_{3} + 1, \\  y_{0} = e^{y}, \\  y_{1} = \\cos{\\left(x \\right)}, \\  y_{2} = \\sin{\\left(x \\right)}, \\  y_{3} = e^{y_{1}}\\right]$"
     },
     "execution_count": 6,
     "metadata": {},
     "output_type": "execute_result"
    }
   ]
  },
  {
   "cell_type": "markdown",
   "source": [
    "### Differential"
   ],
   "metadata": {
    "collapsed": false,
    "pycharm": {
     "name": "#%% md\n",
     "is_executing": false
    }
   }
  },
  {
   "cell_type": "code",
   "execution_count": 7,
   "outputs": [
    {
     "data": {
      "text/plain": "⎡          8                                          2                       \n⎣\\dot x = x  + y⋅y_{0} + y_{1}⋅y_{2} - 1, \\dot y = - y ⋅y_{2} + y - y_{3} + 1,\n\n                 2                                                            \n \\dot y_{0} = - y ⋅y_{0}⋅y_{2} + y⋅y_{0} - y_{0}⋅y_{3} + y_{0}, \\dot y_{1} = -\n\n  8                                    2                        8             \n x ⋅y_{2} - y⋅y_{0}⋅y_{2} - y_{1}⋅y_{2}  + y_{2}, \\dot y_{2} = x ⋅y_{1} + y⋅y_\n\n                 2                                8                           \n{0}⋅y_{1} + y_{1} ⋅y_{2} - y_{1}, \\dot y_{3} = - x ⋅y_{2}⋅y_{3} - y⋅y_{0}⋅y_{2\n\n                     2                    ⎤\n}⋅y_{3} - y_{1}⋅y_{2} ⋅y_{3} + y_{2}⋅y_{3}⎦",
      "image/png": "[encoded data removed]",
      "text/latex": "$\\displaystyle \\left[ \\dot x = x^{8} + y y_{0} + y_{1} y_{2} - 1, \\  \\dot y = - y^{2} y_{2} + y - y_{3} + 1, \\  \\dot y_{0} = - y^{2} y_{0} y_{2} + y y_{0} - y_{0} y_{3} + y_{0}, \\  \\dot y_{1} = - x^{8} y_{2} - y y_{0} y_{2} - y_{1} y_{2}^{2} + y_{2}, \\  \\dot y_{2} = x^{8} y_{1} + y y_{0} y_{1} + y_{1}^{2} y_{2} - y_{1}, \\  \\dot y_{3} = - x^{8} y_{2} y_{3} - y y_{0} y_{2} y_{3} - y_{1} y_{2}^{2} y_{3} + y_{2} y_{3}\\right]$"
     },
     "execution_count": 7,
     "metadata": {},
     "output_type": "execute_result"
    }
   ],
   "source": [
    "polynomialize(system, mode='differential').equations"
   ],
   "metadata": {
    "collapsed": false,
    "pycharm": {
     "name": "#%%\n"
    }
   }
  },
  {
   "cell_type": "markdown",
   "source": [
    "# Multi-variable equation polynomialization"
   ],
   "metadata": {
    "collapsed": false,
    "pycharm": {
     "name": "#%% md\n"
    }
   }
  },
  {
   "cell_type": "code",
   "execution_count": 8,
   "outputs": [
    {
     "data": {
      "text/plain": "⎡          x⋅y                 ⎤\n⎣\\dot x = ℯ   , \\dot y = sin(x)⎦",
      "image/png": "[encoded data removed]",
      "text/latex": "$\\displaystyle \\left[ \\dot x = e^{x y}, \\  \\dot y = \\sin{\\left(x \\right)}\\right]$"
     },
     "execution_count": 8,
     "metadata": {},
     "output_type": "execute_result"
    }
   ],
   "source": [
    "x, y, = sp.symbols('x, y')\n",
    "dot_x = make_derivative_symbol(x)\n",
    "dot_y = make_derivative_symbol(y)\n",
    "\n",
    "system = EquationSystem([\n",
    "    sp.Eq(dot_x, sp.exp(x*y)),\n",
    "    sp.Eq(dot_y, sp.sin(x))\n",
    "])\n",
    "system.equations"
   ],
   "metadata": {
    "collapsed": false,
    "pycharm": {
     "name": "#%% \n"
    }
   }
  },
  {
   "cell_type": "markdown",
   "source": [
    "### Algebraic"
   ],
   "metadata": {
    "collapsed": false,
    "pycharm": {
     "name": "#%% md\n",
     "is_executing": false
    }
   }
  },
  {
   "cell_type": "code",
   "source": [
    "polynomialize(system, mode='algebraic').equations"
   ],
   "metadata": {
    "collapsed": false,
    "pycharm": {
     "name": "#%%\n"
    }
   },
   "execution_count": 9,
   "outputs": [
    {
     "data": {
      "text/plain": "⎡                                         x⋅y                ⎤\n⎣\\dot x = y_{0}, \\dot y = y_{1}, y_{0} = ℯ   , y_{1} = sin(x)⎦",
      "image/png": "[encoded data removed]",
      "text/latex": "$\\displaystyle \\left[ \\dot x = y_{0}, \\  \\dot y = y_{1}, \\  y_{0} = e^{x y}, \\  y_{1} = \\sin{\\left(x \\right)}\\right]$"
     },
     "execution_count": 9,
     "metadata": {},
     "output_type": "execute_result"
    }
   ]
  },
  {
   "cell_type": "markdown",
   "source": [
    "### Differential"
   ],
   "metadata": {
    "collapsed": false,
    "pycharm": {
     "name": "#%% md\n",
     "is_executing": false
    }
   }
  },
  {
   "cell_type": "code",
   "execution_count": 10,
   "outputs": [
    {
     "data": {
      "text/plain": "⎡                                                                    2        \n⎣\\dot x = y_{0}, \\dot y = y_{1}, \\dot y_{0} = x⋅y_{0}⋅y_{1} + y⋅y_{0} , \\dot y\n\n                                             ⎤\n_{1} = y_{0}⋅y_{2}, \\dot y_{2} = -y_{0}⋅y_{1}⎦",
      "image/png": "[encoded data removed]",
      "text/latex": "$\\displaystyle \\left[ \\dot x = y_{0}, \\  \\dot y = y_{1}, \\  \\dot y_{0} = x y_{0} y_{1} + y y_{0}^{2}, \\  \\dot y_{1} = y_{0} y_{2}, \\  \\dot y_{2} = - y_{0} y_{1}\\right]$"
     },
     "execution_count": 10,
     "metadata": {},
     "output_type": "execute_result"
    }
   ],
   "source": [
    "polynomialize(system, mode='differential').equations"
   ],
   "metadata": {
    "collapsed": false,
    "pycharm": {
     "name": "#%%\n"
    }
   }
  },
  {
   "cell_type": "markdown",
   "source": [
    "# Example 6.3.5 from [article](https://www2.eecs.berkeley.edu/Pubs/TechRpts/2012/EECS-2012-217.pdf)\n"
   ],
   "metadata": {
    "collapsed": false
   }
  },
  {
   "cell_type": "code",
   "execution_count": 11,
   "outputs": [
    {
     "data": {
      "text/plain": "⎡           1   ⎤\n⎢\\dot x = ──────⎥\n⎢          x    ⎥\n⎣         ℯ  + 1⎦",
      "image/png": "[encoded data removed]",
      "text/latex": "$\\displaystyle \\left[ \\dot x = \\frac{1}{e^{x} + 1}\\right]$"
     },
     "execution_count": 11,
     "metadata": {},
     "output_type": "execute_result"
    }
   ],
   "source": [
    "x = sp.symbols('x')\n",
    "dot_x = make_derivative_symbol(x)\n",
    "\n",
    "system = EquationSystem([\n",
    "    sp.Eq(dot_x, 1 / (1 + sp.exp(x)))\n",
    "])\n",
    "system.equations"
   ],
   "metadata": {
    "collapsed": false,
    "pycharm": {
     "name": "#%% \n"
    }
   }
  },
  {
   "cell_type": "markdown",
   "source": [
    "### Algebraic"
   ],
   "metadata": {
    "collapsed": false,
    "pycharm": {
     "name": "#%% md\n",
     "is_executing": false
    }
   }
  },
  {
   "cell_type": "code",
   "source": [
    "polynomialize(system, mode='algebraic').equations"
   ],
   "metadata": {
    "collapsed": false,
    "pycharm": {
     "name": "#%%\n"
    }
   },
   "execution_count": 12,
   "outputs": [
    {
     "data": {
      "text/plain": "⎡                         x              1    ⎤\n⎢\\dot x = y_{1}, y_{0} = ℯ , y_{1} = ─────────⎥\n⎣                                    y_{0} + 1⎦",
      "image/png": "[encoded data removed]",
      "text/latex": "$\\displaystyle \\left[ \\dot x = y_{1}, \\  y_{0} = e^{x}, \\  y_{1} = \\frac{1}{y_{0} + 1}\\right]$"
     },
     "execution_count": 12,
     "metadata": {},
     "output_type": "execute_result"
    }
   ]
  },
  {
   "cell_type": "markdown",
   "source": [
    "### Differential"
   ],
   "metadata": {
    "collapsed": false,
    "pycharm": {
     "name": "#%% md\n",
     "is_executing": false
    }
   }
  },
  {
   "cell_type": "code",
   "execution_count": 13,
   "outputs": [
    {
     "data": {
      "text/plain": "⎡                                                                   3⎤\n⎣\\dot x = y_{1}, \\dot y_{0} = y_{0}⋅y_{1}, \\dot y_{1} = -y_{0}⋅y_{1} ⎦",
      "image/png": "[encoded data removed]",
      "text/latex": "$\\displaystyle \\left[ \\dot x = y_{1}, \\  \\dot y_{0} = y_{0} y_{1}, \\  \\dot y_{1} = - y_{0} y_{1}^{3}\\right]$"
     },
     "execution_count": 13,
     "metadata": {},
     "output_type": "execute_result"
    }
   ],
   "source": [
    "polynomialize(system, mode='differential').equations"
   ],
   "metadata": {
    "collapsed": false,
    "pycharm": {
     "name": "#%%\n"
    }
   }
  },
  {
   "cell_type": "markdown",
   "source": [
    "# Parameter equation polynomialization"
   ],
   "metadata": {
    "collapsed": false,
    "pycharm": {
     "name": "#%% md\n"
    }
   }
  },
  {
   "cell_type": "code",
   "execution_count": 14,
   "outputs": [
    {
     "data": {
      "text/plain": "⎡          k⋅x            k⋅x⎤\n⎣\\dot x = ℯ   , \\dot y = ℯ   ⎦",
      "image/png": "[encoded data removed]",
      "text/latex": "$\\displaystyle \\left[ \\dot x = e^{k x}, \\  \\dot y = e^{k x}\\right]$"
     },
     "execution_count": 14,
     "metadata": {},
     "output_type": "execute_result"
    }
   ],
   "source": [
    "x, y = sp.symbols('x, y')\n",
    "k = sp.Symbol('k')\n",
    "dot_x = make_derivative_symbol(x)\n",
    "dot_y = make_derivative_symbol(y)\n",
    "\n",
    "system = EquationSystem([\n",
    "    sp.Eq(dot_x, sp.exp(k * x)),\n",
    "    sp.Eq(dot_y, sp.exp(k * x))\n",
    "], parameter_variables=[k])\n",
    "system.equations"
   ],
   "metadata": {
    "collapsed": false,
    "pycharm": {
     "name": "#%% \n"
    }
   }
  },
  {
   "cell_type": "markdown",
   "source": [
    "### Algebraic"
   ],
   "metadata": {
    "collapsed": false,
    "pycharm": {
     "name": "#%% md\n",
     "is_executing": false
    }
   }
  },
  {
   "cell_type": "code",
   "source": [
    "polynomialize(system, mode='algebraic').equations"
   ],
   "metadata": {
    "collapsed": false,
    "pycharm": {
     "name": "#%%\n"
    }
   },
   "execution_count": 15,
   "outputs": [
    {
     "data": {
      "text/plain": "⎡                                         k⋅x⎤\n⎣\\dot x = y_{0}, \\dot y = y_{0}, y_{0} = ℯ   ⎦",
      "image/png": "[encoded data removed]",
      "text/latex": "$\\displaystyle \\left[ \\dot x = y_{0}, \\  \\dot y = y_{0}, \\  y_{0} = e^{k x}\\right]$"
     },
     "execution_count": 15,
     "metadata": {},
     "output_type": "execute_result"
    }
   ]
  },
  {
   "cell_type": "markdown",
   "source": [
    "### Differential"
   ],
   "metadata": {
    "collapsed": false,
    "pycharm": {
     "name": "#%% md\n",
     "is_executing": false
    }
   }
  },
  {
   "cell_type": "code",
   "execution_count": 16,
   "outputs": [
    {
     "data": {
      "text/plain": "⎡                                                    2⎤\n⎣\\dot x = y_{0}, \\dot y = y_{0}, \\dot y_{0} = k⋅y_{0} ⎦",
      "image/png": "[encoded data removed]",
      "text/latex": "$\\displaystyle \\left[ \\dot x = y_{0}, \\  \\dot y = y_{0}, \\  \\dot y_{0} = k y_{0}^{2}\\right]$"
     },
     "execution_count": 16,
     "metadata": {},
     "output_type": "execute_result"
    }
   ],
   "source": [
    "polynomialize(system, mode='differential').equations"
   ],
   "metadata": {
    "collapsed": false,
    "pycharm": {
     "name": "#%%\n"
    }
   }
  },
  {
   "cell_type": "markdown",
   "source": [
    "# Equation with input function (1)"
   ],
   "metadata": {
    "collapsed": false
   }
  },
  {
   "cell_type": "code",
   "execution_count": 17,
   "outputs": [
    {
     "data": {
      "text/plain": "⎡              x⎤\n⎣\\dot x = u + ℯ ⎦",
      "image/png": "[encoded data removed]",
      "text/latex": "$\\displaystyle \\left[ \\dot x = u + e^{x}\\right]$"
     },
     "execution_count": 17,
     "metadata": {},
     "output_type": "execute_result"
    }
   ],
   "source": [
    "x = sp.Symbol('x')\n",
    "u = sp.Symbol('u')\n",
    "dot_x = make_derivative_symbol(x)\n",
    "\n",
    "system = EquationSystem([\n",
    "    sp.Eq(dot_x, sp.exp(x) + u)\n",
    "], input_variables=[u])\n",
    "system.equations"
   ],
   "metadata": {
    "collapsed": false,
    "pycharm": {
     "name": "#%% \n"
    }
   }
  },
  {
   "cell_type": "markdown",
   "source": [
    "### Algebraic"
   ],
   "metadata": {
    "collapsed": false,
    "pycharm": {
     "name": "#%% md\n",
     "is_executing": false
    }
   }
  },
  {
   "cell_type": "code",
   "source": [
    "polynomialize(system, mode='algebraic').equations"
   ],
   "metadata": {
    "collapsed": false,
    "pycharm": {
     "name": "#%%\n"
    }
   },
   "execution_count": 18,
   "outputs": [
    {
     "data": {
      "text/plain": "⎡                             x⎤\n⎣\\dot x = u + y_{0}, y_{0} = ℯ ⎦",
      "image/png": "[encoded data removed]",
      "text/latex": "$\\displaystyle \\left[ \\dot x = u + y_{0}, \\  y_{0} = e^{x}\\right]$"
     },
     "execution_count": 18,
     "metadata": {},
     "output_type": "execute_result"
    }
   ]
  },
  {
   "cell_type": "markdown",
   "source": [
    "### Differential"
   ],
   "metadata": {
    "collapsed": false,
    "pycharm": {
     "name": "#%% md\n",
     "is_executing": false
    }
   }
  },
  {
   "cell_type": "code",
   "execution_count": 19,
   "outputs": [
    {
     "data": {
      "text/plain": "⎡                                                2⎤\n⎣\\dot x = u + y_{0}, \\dot y_{0} = u⋅y_{0} + y_{0} ⎦",
      "image/png": "[encoded data removed]",
      "text/latex": "$\\displaystyle \\left[ \\dot x = u + y_{0}, \\  \\dot y_{0} = u y_{0} + y_{0}^{2}\\right]$"
     },
     "execution_count": 19,
     "metadata": {},
     "output_type": "execute_result"
    }
   ],
   "source": [
    "polynomialize(system, mode='differential').equations"
   ],
   "metadata": {
    "collapsed": false,
    "pycharm": {
     "name": "#%%\n"
    }
   }
  },
  {
   "cell_type": "markdown",
   "source": [
    "# Equation with input function (1) and parameter"
   ],
   "metadata": {
    "collapsed": false
   }
  },
  {
   "cell_type": "code",
   "execution_count": 20,
   "outputs": [
    {
     "data": {
      "text/plain": "⎡              k⋅x⎤\n⎣\\dot x = u + ℯ   ⎦",
      "image/png": "[encoded data removed]",
      "text/latex": "$\\displaystyle \\left[ \\dot x = u + e^{k x}\\right]$"
     },
     "execution_count": 20,
     "metadata": {},
     "output_type": "execute_result"
    }
   ],
   "source": [
    "x = sp.Symbol('x')\n",
    "u = sp.Symbol('u')\n",
    "k = sp.Symbol('k')\n",
    "dot_x = make_derivative_symbol(x)\n",
    "\n",
    "system = EquationSystem([\n",
    "    sp.Eq(dot_x, sp.exp(k*x) + u),\n",
    "], parameter_variables=[k], input_variables=[u])\n",
    "system.equations"
   ],
   "metadata": {
    "collapsed": false,
    "pycharm": {
     "name": "#%% \n"
    }
   }
  },
  {
   "cell_type": "markdown",
   "source": [
    "### Algebraic"
   ],
   "metadata": {
    "collapsed": false,
    "pycharm": {
     "name": "#%% md\n",
     "is_executing": false
    }
   }
  },
  {
   "cell_type": "code",
   "source": [
    "polynomialize(system, mode='algebraic').equations"
   ],
   "metadata": {
    "collapsed": false,
    "pycharm": {
     "name": "#%%\n"
    }
   },
   "execution_count": 21,
   "outputs": [
    {
     "data": {
      "text/plain": "⎡                             k⋅x⎤\n⎣\\dot x = u + y_{0}, y_{0} = ℯ   ⎦",
      "image/png": "[encoded data removed]",
      "text/latex": "$\\displaystyle \\left[ \\dot x = u + y_{0}, \\  y_{0} = e^{k x}\\right]$"
     },
     "execution_count": 21,
     "metadata": {},
     "output_type": "execute_result"
    }
   ]
  },
  {
   "cell_type": "markdown",
   "source": [
    "### Differential"
   ],
   "metadata": {
    "collapsed": false,
    "pycharm": {
     "name": "#%% md\n",
     "is_executing": false
    }
   }
  },
  {
   "cell_type": "code",
   "execution_count": 22,
   "outputs": [
    {
     "data": {
      "text/plain": "⎡                                                    2⎤\n⎣\\dot x = u + y_{0}, \\dot y_{0} = k⋅u⋅y_{0} + k⋅y_{0} ⎦",
      "image/png": "[encoded data removed]",
      "text/latex": "$\\displaystyle \\left[ \\dot x = u + y_{0}, \\  \\dot y_{0} = k u y_{0} + k y_{0}^{2}\\right]$"
     },
     "execution_count": 22,
     "metadata": {},
     "output_type": "execute_result"
    }
   ],
   "source": [
    "polynomialize(system, mode='differential').equations"
   ],
   "metadata": {
    "collapsed": false,
    "pycharm": {
     "name": "#%%\n"
    }
   }
  },
  {
   "cell_type": "markdown",
   "source": [
    "# Equation with input function (2)"
   ],
   "metadata": {
    "collapsed": false
   }
  },
  {
   "cell_type": "code",
   "execution_count": 23,
   "outputs": [
    {
     "data": {
      "text/plain": "⎡          u⋅x⎤\n⎣\\dot x = ℯ   ⎦",
      "image/png": "[encoded data removed]",
      "text/latex": "$\\displaystyle \\left[ \\dot x = e^{u x}\\right]$"
     },
     "execution_count": 23,
     "metadata": {},
     "output_type": "execute_result"
    }
   ],
   "source": [
    "x = sp.Symbol('x')\n",
    "u = sp.Symbol('u')\n",
    "dot_x = make_derivative_symbol(x)\n",
    "\n",
    "system = EquationSystem([\n",
    "    sp.Eq(dot_x, sp.exp(u * x)),\n",
    "], input_variables=[u])\n",
    "system.equations"
   ],
   "metadata": {
    "collapsed": false,
    "pycharm": {
     "name": "#%% \n"
    }
   }
  },
  {
   "cell_type": "markdown",
   "source": [
    "### Algebraic"
   ],
   "metadata": {
    "collapsed": false,
    "pycharm": {
     "name": "#%% md\n",
     "is_executing": false
    }
   }
  },
  {
   "cell_type": "code",
   "source": [
    "polynomialize(system, mode='algebraic').equations"
   ],
   "metadata": {
    "collapsed": false,
    "pycharm": {
     "name": "#%%\n"
    }
   },
   "execution_count": 24,
   "outputs": [
    {
     "data": {
      "text/plain": "⎡                         u⋅x⎤\n⎣\\dot x = y_{0}, y_{0} = ℯ   ⎦",
      "image/png": "[encoded data removed]",
      "text/latex": "$\\displaystyle \\left[ \\dot x = y_{0}, \\  y_{0} = e^{u x}\\right]$"
     },
     "execution_count": 24,
     "metadata": {},
     "output_type": "execute_result"
    }
   ]
  },
  {
   "cell_type": "markdown",
   "source": [
    "### Differential"
   ],
   "metadata": {
    "collapsed": false,
    "pycharm": {
     "name": "#%% md\n",
     "is_executing": false
    }
   }
  },
  {
   "cell_type": "code",
   "execution_count": 25,
   "outputs": [
    {
     "data": {
      "text/plain": "⎡                                                     2⎤\n⎣\\dot x = y_{0}, \\dot y_{0} = \\dot u⋅x⋅y_{0} + u⋅y_{0} ⎦",
      "image/png": "[encoded data removed]",
      "text/latex": "$\\displaystyle \\left[ \\dot x = y_{0}, \\  \\dot y_{0} = \\dot u x y_{0} + u y_{0}^{2}\\right]$"
     },
     "execution_count": 25,
     "metadata": {},
     "output_type": "execute_result"
    }
   ],
   "source": [
    "polynomialize(system, mode='differential').equations"
   ],
   "metadata": {
    "collapsed": false,
    "pycharm": {
     "name": "#%%\n"
    }
   }
  }
 ],
 "metadata": {
  "kernelspec": {
   "display_name": "Python 3",
   "language": "python",
   "name": "python3"
  },
  "language_info": {
   "codemirror_mode": {
    "name": "ipython",
    "version": 2
   },
   "file_extension": ".py",
   "mimetype": "text/x-python",
   "name": "python",
   "nbconvert_exporter": "python",
   "pygments_lexer": "ipython2",
   "version": "2.7.6"
  }
 },
 "nbformat": 4,
 "nbformat_minor": 0
}