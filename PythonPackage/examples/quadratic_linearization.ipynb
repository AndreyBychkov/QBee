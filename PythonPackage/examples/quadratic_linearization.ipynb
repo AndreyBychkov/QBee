{
 "cells": [
  {
   "cell_type": "code",
   "execution_count": 8,
   "metadata": {
    "pycharm": {
     "is_executing": false
    }
   },
   "outputs": [],
   "source": [
    "import sympy as sp\n",
    "from SymbolsHolder import make_derivative_symbol\n",
    "from qbee import polynomialize, quadratic_linearize\n",
    "from visuzalization.vizualization import visualize\n",
    "\n",
    "sp.init_printing()\n",
    "\n",
    "x, y, z = sp.symbols('x, y, z')\n",
    "dot_x, dot_y, dot_z = list(map(make_derivative_symbol, [x, y, z]))\n"
   ]
  },
  {
   "cell_type": "markdown",
   "metadata": {
    "pycharm": {
     "name": "#%% md\n"
    }
   },
   "source": [
    "### Simple systems"
   ]
  },
  {
   "cell_type": "code",
   "execution_count": 2,
   "metadata": {
    "pycharm": {
     "is_executing": false,
     "name": "#%%\n"
    }
   },
   "outputs": [
    {
     "data": {
      "text/plain": "⎡          3⎤\n⎣\\dot x = x ⎦",
      "image/png": "[encoded data removed]",
      "text/latex": "$\\displaystyle \\left[ \\dot x = x^{3}\\right]$"
     },
     "metadata": {},
     "output_type": "execute_result",
     "execution_count": 2
    }
   ],
   "source": [
    "system = [\n",
    "    sp.Eq(dot_x, x**3)\n",
    "]\n",
    "\n",
    "system"
   ]
  },
  {
   "cell_type": "code",
   "execution_count": 3,
   "outputs": [
    {
     "data": {
      "text/plain": "⎡                                      2⎤\n⎣\\dot x = x⋅y_{0}, \\dot y_{0} = 2⋅y_{0} ⎦",
      "image/png": "[encoded data removed]",
      "text/latex": "$\\displaystyle \\left[ \\dot x = x y_{0}, \\  \\dot y_{0} = 2 y_{0}^{2}\\right]$"
     },
     "metadata": {},
     "output_type": "execute_result",
     "execution_count": 3
    }
   ],
   "source": [
    "quadratic_linearize(system)"
   ],
   "metadata": {
    "collapsed": false,
    "pycharm": {
     "name": "#%%\n",
     "is_executing": false
    }
   }
  },
  {
   "cell_type": "code",
   "execution_count": 4,
   "outputs": [
    {
     "data": {
      "text/plain": "⎡          3              2            ⎤\n⎣\\dot x = x , \\dot y = x⋅z , \\dot z = z⎦",
      "image/png": "[encoded data removed]",
      "text/latex": "$\\displaystyle \\left[ \\dot x = x^{3}, \\  \\dot y = x z^{2}, \\  \\dot z = z\\right]$"
     },
     "metadata": {},
     "output_type": "execute_result",
     "execution_count": 4
    }
   ],
   "source": [
    "system = \\\n",
    "    [\n",
    "        sp.Eq(dot_x, x**3),\n",
    "        sp.Eq(dot_y, x * z**2),\n",
    "        sp.Eq(dot_z, z)\n",
    "    ]\n",
    "\n",
    "system"
   ],
   "metadata": {
    "collapsed": false,
    "pycharm": {
     "name": "#%%\n",
     "is_executing": false
    }
   }
  },
  {
   "cell_type": "code",
   "execution_count": 5,
   "outputs": [
    {
     "data": {
      "text/plain": "⎡                                                                             \n⎣\\dot x = x⋅y_{1}, \\dot y = x⋅y_{0}, \\dot z = z, \\dot y_{0} = 2⋅y_{0}, \\dot y_\n\n             2⎤\n{1} = 2⋅y_{1} ⎦",
      "image/png": "[encoded data removed]",
      "text/latex": "$\\displaystyle \\left[ \\dot x = x y_{1}, \\  \\dot y = x y_{0}, \\  \\dot z = z, \\  \\dot y_{0} = 2 y_{0}, \\  \\dot y_{1} = 2 y_{1}^{2}\\right]$"
     },
     "metadata": {},
     "output_type": "execute_result",
     "execution_count": 5
    }
   ],
   "source": [
    "quadratic_linearize(system)"
   ],
   "metadata": {
    "collapsed": false,
    "pycharm": {
     "name": "#%%\n",
     "is_executing": false
    }
   }
  },
  {
   "cell_type": "markdown",
   "source": [
    "# Example 6.3.5 from [article](https://www2.eecs.berkeley.edu/Pubs/TechRpts/2012/EECS-2012-217.pdf)\n",
    "\n",
    "There are several methods to quadratic-linearize a system. We propose 'sqrt-count-first'\n",
    "as the most successful for now. "
   ],
   "metadata": {
    "collapsed": false,
    "pycharm": {
     "name": "#%% md\n"
    }
   }
  },
  {
   "cell_type": "code",
   "execution_count": 6,
   "outputs": [
    {
     "data": {
      "text/plain": "⎡           1   ⎤\n⎢\\dot x = ──────⎥\n⎢          x    ⎥\n⎣         ℯ  + 1⎦",
      "image/png": "[encoded data removed]",
      "text/latex": "$\\displaystyle \\left[ \\dot x = \\frac{1}{e^{x} + 1}\\right]$"
     },
     "metadata": {},
     "output_type": "execute_result",
     "execution_count": 6
    }
   ],
   "source": [
    "system = \\\n",
    "    [\n",
    "        sp.Eq(dot_x, 1 / (1 + sp.exp(x)))\n",
    "    ]\n",
    "\n",
    "system"
   ],
   "metadata": {
    "collapsed": false,
    "pycharm": {
     "name": "#%%\n",
     "is_executing": false
    }
   }
  },
  {
   "cell_type": "code",
   "execution_count": 7,
   "outputs": [
    {
     "name": "stdout",
     "text": [
      "----------------------------------------------------------------------------------------------------\n",
      "Equations added: 2\n",
      "Last replacement: Eq(y_{1}, 1/(y_{0} + 1))\n",
      "----------------------------------------------------------------------------------------------------\n",
      "Equations added: 3\n",
      "Last replacement: Eq(y_{2}, y_{1}**2)\n",
      "----------------------------------------------------------------------------------------------------\n",
      "Equations added: 4\n",
      "Last replacement: Eq(y_{3}, y_{2}**2)\n",
      "----------------------------------------------------------------------------------------------------\n",
      "Equations added: 5\n",
      "Last replacement: Eq(y_{4}, y_{0}*y_{2})\n",
      "----------------------------------------------------------------------------------------------------\n"
     ],
     "output_type": "stream"
    },
    {
     "data": {
      "text/plain": "[\\dot x = y_{1}, \\dot y_{0} = y_{0}⋅y_{1}, \\dot y_{1} = -y_{1}⋅y_{4}, \\dot y_{\n2} = -2⋅y_{0}⋅y_{3}, \\dot y_{3} = -4⋅y_{3}⋅y_{4}, \\dot y_{4} = y_{1}⋅y_{4} - 2\n⋅y_{3}⋅y_{5}, \\dot y_{5} = 2⋅y_{1}⋅y_{5}]",
      "image/png": "[encoded data removed]",
      "text/latex": "$\\displaystyle \\left[ \\dot x = y_{1}, \\  \\dot y_{0} = y_{0} y_{1}, \\  \\dot y_{1} = - y_{1} y_{4}, \\  \\dot y_{2} = - 2 y_{0} y_{3}, \\  \\dot y_{3} = - 4 y_{3} y_{4}, \\  \\dot y_{4} = y_{1} y_{4} - 2 y_{3} y_{5}, \\  \\dot y_{5} = 2 y_{1} y_{5}\\right]$"
     },
     "metadata": {},
     "output_type": "execute_result",
     "execution_count": 7
    }
   ],
   "source": [
    "quadratic_linearize(system, debug='info', log_file='graph_log.csv')"
   ],
   "metadata": {
    "collapsed": false,
    "pycharm": {
     "name": "#%%\n",
     "is_executing": false
    }
   }
  },
  {
   "cell_type": "code",
   "execution_count": 9,
   "outputs": [
    {
     "data": {
      "text/plain": "<Figure size 432x288 with 1 Axes>",
      "image/png": "[encoded data removed]"
     },
     "metadata": {},
     "output_type": "display_data"
    }
   ],
   "source": [
    "visualize('graph_log.csv')"
   ],
   "metadata": {
    "collapsed": false,
    "pycharm": {
     "name": "#%%\n",
     "is_executing": false
    }
   }
  }
 ],
 "metadata": {
  "kernelspec": {
   "display_name": "Python 3",
   "language": "python",
   "name": "python3"
  },
  "language_info": {
   "codemirror_mode": {
    "name": "ipython",
    "version": 3
   },
   "file_extension": ".py",
   "mimetype": "text/x-python",
   "name": "python",
   "nbconvert_exporter": "python",
   "pygments_lexer": "ipython3",
   "version": "3.7.6"
  },
  "pycharm": {
   "stem_cell": {
    "cell_type": "raw",
    "source": [],
    "metadata": {
     "collapsed": false
    }
   }
  }
 },
 "nbformat": 4,
 "nbformat_minor": 1
}