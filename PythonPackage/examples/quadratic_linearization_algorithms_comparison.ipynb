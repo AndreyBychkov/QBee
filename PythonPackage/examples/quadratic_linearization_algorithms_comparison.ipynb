{
 "cells": [
  {
   "cell_type": "code",
   "execution_count": 1,
   "metadata": {
    "pycharm": {
     "is_executing": false
    }
   },
   "outputs": [],
   "source": [
    "import sympy as sp\n",
    "from EquationSystem import EquationSystem\n",
    "from SymbolsHolder import make_derivative_symbol\n",
    "\n",
    "sp.init_printing()\n",
    "\n",
    "x, y, z = sp.symbols('x, y, z')\n",
    "dot_x, dot_y, dot_z = list(map(make_derivative_symbol, [x, y, z]))\n"
   ]
  },
  {
   "cell_type": "markdown",
   "metadata": {
    "pycharm": {
     "name": "#%% md\n"
    }
   },
   "source": [
    "### Simple systems"
   ]
  },
  {
   "cell_type": "code",
   "execution_count": 2,
   "metadata": {
    "pycharm": {
     "is_executing": false,
     "name": "#%%\n"
    }
   },
   "outputs": [
    {
     "data": {
      "text/plain": "⎡          3⎤\n⎣\\dot x = x ⎦",
      "image/png": "[encoded data removed]",
      "text/latex": "$\\displaystyle \\left[ \\dot x = x^{3}\\right]$"
     },
     "metadata": {},
     "output_type": "execute_result",
     "execution_count": 2
    }
   ],
   "source": [
    "system = EquationSystem([\n",
    "    sp.Eq(dot_x, x**3)\n",
    "]) \n",
    "\n",
    "system.equations"
   ]
  },
  {
   "cell_type": "code",
   "execution_count": 3,
   "outputs": [
    {
     "data": {
      "text/plain": "⎡                                      2⎤\n⎣\\dot x = x⋅y_{0}, \\dot y_{0} = 2⋅y_{0} ⎦",
      "image/png": "[encoded data removed]",
      "text/latex": "$\\displaystyle \\left[ \\dot x = x y_{0}, \\  \\dot y_{0} = 2 y_{0}^{2}\\right]$"
     },
     "metadata": {},
     "output_type": "execute_result",
     "execution_count": 3
    }
   ],
   "source": [
    "system._quadratic_linearize_diff_rand()\n",
    "\n",
    "system.equations"
   ],
   "metadata": {
    "collapsed": false,
    "pycharm": {
     "name": "#%%\n",
     "is_executing": false
    }
   }
  },
  {
   "cell_type": "code",
   "execution_count": 4,
   "outputs": [
    {
     "data": {
      "text/plain": "⎡          3              2            ⎤\n⎣\\dot x = x , \\dot y = x⋅z , \\dot z = z⎦",
      "image/png": "[encoded data removed]",
      "text/latex": "$\\displaystyle \\left[ \\dot x = x^{3}, \\  \\dot y = x z^{2}, \\  \\dot z = z\\right]$"
     },
     "metadata": {},
     "output_type": "execute_result",
     "execution_count": 4
    }
   ],
   "source": [
    "system = EquationSystem([\n",
    "        sp.Eq(dot_x, x**3),\n",
    "        sp.Eq(dot_y, x * z**2),\n",
    "        sp.Eq(dot_z, z)\n",
    "    ])\n",
    "\n",
    "system.equations"
   ],
   "metadata": {
    "collapsed": false,
    "pycharm": {
     "name": "#%%\n",
     "is_executing": false
    }
   }
  },
  {
   "cell_type": "code",
   "execution_count": 5,
   "outputs": [
    {
     "data": {
      "text/plain": "⎡                                                                             \n⎣\\dot x = x⋅y_{1}, \\dot y = y_{0}⋅z, \\dot z = z, \\dot y_{0} = y_{0}⋅y_{1} + y_\n\n                         2⎤\n{0}, \\dot y_{1} = 2⋅y_{1} ⎦",
      "image/png": "[encoded data removed]",
      "text/latex": "$\\displaystyle \\left[ \\dot x = x y_{1}, \\  \\dot y = y_{0} z, \\  \\dot z = z, \\  \\dot y_{0} = y_{0} y_{1} + y_{0}, \\  \\dot y_{1} = 2 y_{1}^{2}\\right]$"
     },
     "metadata": {},
     "output_type": "execute_result",
     "execution_count": 5
    }
   ],
   "source": [
    "system.quadratic_linearize('differential')\n",
    "\n",
    "system.equations"
   ],
   "metadata": {
    "collapsed": false,
    "pycharm": {
     "name": "#%%\n",
     "is_executing": false
    }
   }
  },
  {
   "cell_type": "markdown",
   "source": [
    "# Example 6.3.5 from [article](https://www2.eecs.berkeley.edu/Pubs/TechRpts/2012/EECS-2012-217.pdf)\n",
    "\n",
    "Algorithm occasionally fails to make transformation due to its random nature.\n",
    "\n",
    "Rerun cell if you haven't received output in a few seconds. \n",
    " "
   ],
   "metadata": {
    "collapsed": false,
    "pycharm": {
     "name": "#%% md\n"
    }
   }
  },
  {
   "cell_type": "code",
   "execution_count": 13,
   "outputs": [
    {
     "data": {
      "text/plain": "[\\dot x = y_{1}, \\dot y_{0} = y_{0}⋅y_{1}, \\dot y_{1} = -y_{0}⋅y_{3}, \\dot y_{\n2} = y_{6}, \\dot y_{3} = -3⋅y_{0}⋅y_{4}, \\dot y_{4} = -5⋅y_{4}⋅y_{7}, \\dot y_{\n5} = 2⋅y_{2}⋅y_{6}, \\dot y_{6} = y_{1}⋅y_{6} - 4⋅y_{6}⋅y_{7}, \\dot y_{7} = y_{\n0}⋅y_{3} + y_{0}⋅y_{6}]",
      "image/png": "[encoded data removed]",
      "text/latex": "$\\displaystyle \\left[ \\dot x = y_{1}, \\  \\dot y_{0} = y_{0} y_{1}, \\  \\dot y_{1} = - y_{0} y_{3}, \\  \\dot y_{2} = y_{6}, \\  \\dot y_{3} = - 3 y_{0} y_{4}, \\  \\dot y_{4} = - 5 y_{4} y_{7}, \\  \\dot y_{5} = 2 y_{2} y_{6}, \\  \\dot y_{6} = y_{1} y_{6} - 4 y_{6} y_{7}, \\  \\dot y_{7} = y_{0} y_{3} + y_{0} y_{6}\\right]$"
     },
     "metadata": {},
     "output_type": "execute_result",
     "execution_count": 13
    }
   ],
   "source": [
    "system = EquationSystem([\n",
    "    sp.Eq(dot_x, 1 / (1 + sp.exp(x)))\n",
    "])\n",
    "\n",
    "\n",
    "system.polynomize('differential')\n",
    "\n",
    "system._quadratic_linearize_diff_rand(debug=None)\n",
    "system.equations"
   ],
   "metadata": {
    "collapsed": false,
    "pycharm": {
     "name": "#%%\n",
     "is_executing": false
    }
   }
  },
  {
   "cell_type": "code",
   "execution_count": 14,
   "outputs": [
    {
     "data": {
      "text/plain": "⎡                                                                             \n⎣\\dot x = y_{1}, \\dot y_{0} = y_{0}⋅y_{1}, \\dot y_{1} = -y_{0}⋅y_{1}⋅y_{2}, \\d\n\n                         2⎤\not y_{2} = -2⋅y_{0}⋅y_{2} ⎦",
      "image/png": "[encoded data removed]",
      "text/latex": "$\\displaystyle \\left[ \\dot x = y_{1}, \\  \\dot y_{0} = y_{0} y_{1}, \\  \\dot y_{1} = - y_{0} y_{1} y_{2}, \\  \\dot y_{2} = - 2 y_{0} y_{2}^{2}\\right]$"
     },
     "metadata": {},
     "output_type": "execute_result",
     "execution_count": 14
    }
   ],
   "source": [
    "system = EquationSystem([\n",
    "    sp.Eq(dot_x, 1 / (1 + sp.exp(x)))\n",
    "])\n",
    "\n",
    "\n",
    "system.polynomize('differential')\n",
    "\n",
    "system._quadratic_linearize_diff_square_first(debug=None)\n",
    "system.equations\n"
   ],
   "metadata": {
    "collapsed": false,
    "pycharm": {
     "name": "#%%\n",
     "is_executing": false
    }
   }
  }
 ],
 "metadata": {
  "kernelspec": {
   "display_name": "Python 3",
   "language": "python",
   "name": "python3"
  },
  "language_info": {
   "codemirror_mode": {
    "name": "ipython",
    "version": 3
   },
   "file_extension": ".py",
   "mimetype": "text/x-python",
   "name": "python",
   "nbconvert_exporter": "python",
   "pygments_lexer": "ipython3",
   "version": "3.7.6"
  },
  "pycharm": {
   "stem_cell": {
    "cell_type": "raw",
    "source": [],
    "metadata": {
     "collapsed": false
    }
   }
  }
 },
 "nbformat": 4,
 "nbformat_minor": 1
}