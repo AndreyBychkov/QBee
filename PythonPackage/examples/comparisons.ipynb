{
 "cells": [
  {
   "cell_type": "code",
   "execution_count": 1,
   "metadata": {
    "collapsed": true
   },
   "outputs": [
    {
     "name": "stdout",
     "output_type": "stream",
     "text": [
      "Number of processors:  12\n"
     ]
    }
   ],
   "source": [
    "import numpy as np\n",
    "import multiprocessing as mp\n",
    "from tqdm import tqdm\n",
    "\n",
    "print(\"Number of processors: \", mp.cpu_count())\n",
    "stat_cycle_num =  3"
   ]
  },
  {
   "cell_type": "code",
   "execution_count": 4,
   "outputs": [
    {
     "data": {
      "text/plain": "⎡                                                                         3⎤\n⎣\\dot x = x⋅y_{1}, \\dot y_{0} = x⋅y_{0}⋅y_{1}, \\dot y_{1} = -x⋅y_{0}⋅y_{1} ⎦",
      "image/png": "[encoded data removed]",
      "text/latex": "$\\displaystyle \\left[ \\dot x = x y_{1}, \\  \\dot y_{0} = x y_{0} y_{1}, \\  \\dot y_{1} = - x y_{0} y_{1}^{3}\\right]$"
     },
     "execution_count": 4,
     "metadata": {},
     "output_type": "execute_result"
    }
   ],
   "source": [
    "import sympy as sp\n",
    "from examples.comparisons import system\n",
    "\n",
    "sp.init_printing()\n",
    "\n",
    "system.equations"
   ],
   "metadata": {
    "collapsed": false,
    "pycharm": {
     "name": "#%%\n"
    }
   }
  },
  {
   "cell_type": "code",
   "execution_count": 5,
   "outputs": [
    {
     "name": "stderr",
     "output_type": "stream",
     "text": [
      "Cycle num: 100%|███████████████████████████████████████████████████████████████████████| 3/3 [33:11<00:00, 663.96s/run]\n"
     ]
    },
    {
     "data": {
      "text/plain": "[145, 273, 252, 166, 150, 81, 230, 240, 23, 291, 292, 215, 21, 24, 164, 26, 26\n9, 238, 256, 217, 122, 23, 99, 52, 45, 273, 41, 175, 286, 228, 36, 168, 22, 26\n5, 207, 192]",
      "image/png": "[encoded data removed]",
      "text/latex": "$\\displaystyle \\left[ 145, \\  273, \\  252, \\  166, \\  150, \\  81, \\  230, \\  240, \\  23, \\  291, \\  292, \\  215, \\  21, \\  24, \\  164, \\  26, \\  269, \\  238, \\  256, \\  217, \\  122, \\  23, \\  99, \\  52, \\  45, \\  273, \\  41, \\  175, \\  286, \\  228, \\  36, \\  168, \\  22, \\  265, \\  207, \\  192\\right]$"
     },
     "execution_count": 5,
     "metadata": {},
     "output_type": "execute_result"
    }
   ],
   "source": [
    "from examples.comparisons import ql_bfs_stat\n",
    "\n",
    "bfs_steps = list()\n",
    "for _ in tqdm(range(stat_cycle_num), desc=\"Cycle num\", unit=\"run\"):\n",
    "    with mp.Pool(mp.cpu_count()) as pool:\n",
    "        bfs_steps_cur = pool.map(ql_bfs_stat, range(mp.cpu_count()))\n",
    "        bfs_steps += bfs_steps_cur\n",
    "\n",
    "bfs_steps"
   ],
   "metadata": {
    "collapsed": false,
    "pycharm": {
     "name": "#%%\n"
    }
   }
  },
  {
   "cell_type": "code",
   "execution_count": 6,
   "outputs": [
    {
     "name": "stdout",
     "output_type": "stream",
     "text": [
      "BFS steps statistics:\n",
      "Range: [21, 292]\n",
      "Mean:  161.30555555555554\n",
      "Median:  171.5\n",
      "Standard deviation:  95.2907304120875\n"
     ]
    }
   ],
   "source": [
    "print(\"BFS steps statistics:\")\n",
    "print(f\"Range: [{np.min(bfs_steps)}, {np.max(bfs_steps)}]\")\n",
    "print(\"Mean: \", np.mean(bfs_steps))\n",
    "print(\"Median: \", np.median(bfs_steps))\n",
    "print(\"Standard deviation: \", np.std(bfs_steps))"
   ],
   "metadata": {
    "collapsed": false,
    "pycharm": {
     "name": "#%%\n"
    }
   }
  },
  {
   "cell_type": "code",
   "execution_count": 7,
   "outputs": [
    {
     "name": "stderr",
     "output_type": "stream",
     "text": [
      "Cycle num: 100%|███████████████████████████████████████████████████████████████████████| 3/3 [31:02<00:00, 620.81s/run]\n"
     ]
    },
    {
     "data": {
      "text/plain": "[194, 53, 232, 117, 154, 200, 32, 167, 38, 164, 97, 207, 206, 81, 221, 152, 15\n4, 110, 220, 259, 85, 228, 72, 141, 178, 265, 176, 79, 216, 238, 102, 184, 85,\n 21, 177, 21]",
      "image/png": "[encoded data removed]",
      "text/latex": "$\\displaystyle \\left[ 194, \\  53, \\  232, \\  117, \\  154, \\  200, \\  32, \\  167, \\  38, \\  164, \\  97, \\  207, \\  206, \\  81, \\  221, \\  152, \\  154, \\  110, \\  220, \\  259, \\  85, \\  228, \\  72, \\  141, \\  178, \\  265, \\  176, \\  79, \\  216, \\  238, \\  102, \\  184, \\  85, \\  21, \\  177, \\  21\\right]$"
     },
     "execution_count": 7,
     "metadata": {},
     "output_type": "execute_result"
    }
   ],
   "source": [
    "from examples.comparisons import ql_iddfs_1_stat\n",
    "\n",
    "iddfs_1_steps = list()\n",
    "for _ in tqdm(range(stat_cycle_num), desc=\"Cycle num\", unit=\"run\"):\n",
    "    with mp.Pool(mp.cpu_count()) as pool:\n",
    "        iddfs_1_steps_cur = pool.map(ql_iddfs_1_stat, range(mp.cpu_count()))\n",
    "        iddfs_1_steps += iddfs_1_steps_cur\n",
    "\n",
    "iddfs_1_steps"
   ],
   "metadata": {
    "collapsed": false,
    "pycharm": {
     "name": "#%%\n"
    }
   }
  },
  {
   "cell_type": "code",
   "execution_count": 8,
   "outputs": [
    {
     "name": "stdout",
     "output_type": "stream",
     "text": [
      "ID-DFS from 1 depth - steps statistics:\n",
      "Range: [21, 265]\n",
      "Mean:  147.94444444444446\n",
      "Median:  159.0\n",
      "Standard deviation:  69.8943426594919\n"
     ]
    }
   ],
   "source": [
    "print(\"ID-DFS from 1 depth - steps statistics:\")\n",
    "print(f\"Range: [{np.min(iddfs_1_steps)}, {np.max(iddfs_1_steps)}]\")\n",
    "print(\"Mean: \", np.mean(iddfs_1_steps))\n",
    "print(\"Median: \", np.median(iddfs_1_steps))\n",
    "print(\"Standard deviation: \", np.std(iddfs_1_steps))"
   ],
   "metadata": {
    "collapsed": false,
    "pycharm": {
     "name": "#%%\n"
    }
   }
  },
  {
   "cell_type": "code",
   "execution_count": 9,
   "outputs": [
    {
     "name": "stderr",
     "output_type": "stream",
     "text": [
      "Cycle num: 100%|███████████████████████████████████████████████████████████████████████| 3/3 [33:32<00:00, 670.99s/run]\n"
     ]
    },
    {
     "data": {
      "text/plain": "[157, 163, 285, 220, 44, 291, 217, 142, 291, 171, 134, 90, 257, 133, 66, 46, 1\n58, 190, 103, 77, 271, 198, 193, 26, 137, 285, 135, 78, 175, 137, 38, 156, 141\n, 165, 181, 250]",
      "image/png": "[encoded data removed]",
      "text/latex": "$\\displaystyle \\left[ 157, \\  163, \\  285, \\  220, \\  44, \\  291, \\  217, \\  142, \\  291, \\  171, \\  134, \\  90, \\  257, \\  133, \\  66, \\  46, \\  158, \\  190, \\  103, \\  77, \\  271, \\  198, \\  193, \\  26, \\  137, \\  285, \\  135, \\  78, \\  175, \\  137, \\  38, \\  156, \\  141, \\  165, \\  181, \\  250\\right]$"
     },
     "execution_count": 9,
     "metadata": {},
     "output_type": "execute_result"
    }
   ],
   "source": [
    "from examples.comparisons import ql_iddfs_2_stat\n",
    "\n",
    "iddfs_2_steps = list()\n",
    "for _ in tqdm(range(stat_cycle_num), desc=\"Cycle num\", unit=\"run\"):\n",
    "    with mp.Pool(mp.cpu_count()) as pool:\n",
    "        iddfs_2_steps_cur = pool.map(ql_iddfs_2_stat, range(mp.cpu_count()))\n",
    "        iddfs_2_steps += iddfs_2_steps_cur\n",
    "\n",
    "iddfs_2_steps"
   ],
   "metadata": {
    "collapsed": false,
    "pycharm": {
     "name": "#%%\n"
    }
   }
  },
  {
   "cell_type": "code",
   "execution_count": 10,
   "outputs": [
    {
     "name": "stdout",
     "output_type": "stream",
     "text": [
      "ID-DFS from 2 depth - steps statistics:\n",
      "Range: [26, 291]\n",
      "Mean:  161.13888888888889\n",
      "Median:  157.5\n",
      "Standard deviation:  74.56360177644682\n"
     ]
    }
   ],
   "source": [
    "print(\"ID-DFS from 2 depth - steps statistics:\")\n",
    "print(f\"Range: [{np.min(iddfs_2_steps)}, {np.max(iddfs_2_steps)}]\")\n",
    "print(\"Mean: \", np.mean(iddfs_2_steps))\n",
    "print(\"Median: \", np.median(iddfs_2_steps))\n",
    "print(\"Standard deviation: \", np.std(iddfs_2_steps))"
   ],
   "metadata": {
    "collapsed": false,
    "pycharm": {
     "name": "#%%\n"
    }
   }
  }
 ],
 "metadata": {
  "kernelspec": {
   "display_name": "PyCharm (NLP_course_APR)",
   "language": "python",
   "name": "pycharm-3873a08e"
  },
  "language_info": {
   "codemirror_mode": {
    "name": "ipython",
    "version": 2
   },
   "file_extension": ".py",
   "mimetype": "text/x-python",
   "name": "python",
   "nbconvert_exporter": "python",
   "pygments_lexer": "ipython2",
   "version": "2.7.6"
  }
 },
 "nbformat": 4,
 "nbformat_minor": 0
}