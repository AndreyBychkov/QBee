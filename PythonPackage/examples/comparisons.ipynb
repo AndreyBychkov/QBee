{
 "cells": [
  {
   "cell_type": "code",
   "execution_count": 1,
   "metadata": {
    "collapsed": true
   },
   "outputs": [
    {
     "name": "stdout",
     "output_type": "stream",
     "text": [
      "Number of processors:  12\n"
     ]
    }
   ],
   "source": [
    "import numpy as np\n",
    "import multiprocessing as mp\n",
    "from tqdm import tqdm\n",
    "\n",
    "print(\"Number of processors: \", mp.cpu_count())\n",
    "stat_cycle_num =  10"
   ]
  },
  {
   "cell_type": "code",
   "execution_count": 2,
   "outputs": [
    {
     "name": "stderr",
     "output_type": "stream",
     "text": [
      "C:\\Users\\а\\IdeaProjects\\QBee\\PythonPackage\\quadratic_linearization.py:9: TqdmExperimentalWarning: Using `tqdm.autonotebook.tqdm` in notebook mode. Use `tqdm.tqdm` instead to force console mode (e.g. in jupyter console)\n",
      "  from tqdm.autonotebook import tqdm\n"
     ]
    },
    {
     "data": {
      "text/plain": "⎡                                                                         3⎤\n⎣\\dot x = x⋅y_{1}, \\dot y_{0} = x⋅y_{0}⋅y_{1}, \\dot y_{1} = -x⋅y_{0}⋅y_{1} ⎦",
      "image/png": "[encoded data removed]",
      "text/latex": "$\\displaystyle \\left[ \\dot x = x y_{1}, \\  \\dot y_{0} = x y_{0} y_{1}, \\  \\dot y_{1} = - x y_{0} y_{1}^{3}\\right]$"
     },
     "execution_count": 2,
     "metadata": {},
     "output_type": "execute_result"
    }
   ],
   "source": [
    "import sympy as sp\n",
    "from examples.comparisons import system\n",
    "\n",
    "sp.init_printing()\n",
    "\n",
    "system.equations"
   ],
   "metadata": {
    "collapsed": false,
    "pycharm": {
     "name": "#%%\n"
    }
   }
  },
  {
   "cell_type": "code",
   "execution_count": 3,
   "outputs": [
    {
     "name": "stderr",
     "output_type": "stream",
     "text": [
      "Cycle num: 100%|██████████████████████████████████████████████████████████████████████| 10/10 [06:34<00:00, 39.46s/run]\n"
     ]
    },
    {
     "data": {
      "text/plain": "[266, 238, 162, 328, 143, 145, 22, 181, 54, 165, 154, 145, 179, 211, 104, 232,\n 230, 190, 330, 128, 235, 332, 156, 196, 40, 81, 120, 268, 114, 275, 112, 234,\n 253, 336, 194, 40, 241, 258, 138, 332, 216, 305, 24, 23, 287, 335, 24, 139, 2\n28, 80, 337, 261, 299, 163, 282, 173, 140, 211, 80, 31, 204, 214, 137, 22, 83,\n 95, 333, 173, 39, 124, 22, 327, 170, 138, 144, 91, 233, 121, 24, 242, 267, 25\n, 130, 56, 22, 332, 178, 202, 91, 56, 105, 151, 139, 172, 300, 30, 223, 149, 1\n48, 137, 315, 255, 190, 288, 155, 98, 55, 88, 105, 126, 26, 84, 180, 244, 300,\n 85, 181, 91, 47, 235]",
      "image/png": "[encoded data removed]",
      "text/latex": "$\\displaystyle \\left[ 266, \\  238, \\  162, \\  328, \\  143, \\  145, \\  22, \\  181, \\  54, \\  165, \\  154, \\  145, \\  179, \\  211, \\  104, \\  232, \\  230, \\  190, \\  330, \\  128, \\  235, \\  332, \\  156, \\  196, \\  40, \\  81, \\  120, \\  268, \\  114, \\  275, \\  112, \\  234, \\  253, \\  336, \\  194, \\  40, \\  241, \\  258, \\  138, \\  332, \\  216, \\  305, \\  24, \\  23, \\  287, \\  335, \\  24, \\  139, \\  228, \\  80, \\  337, \\  261, \\  299, \\  163, \\  282, \\  173, \\  140, \\  211, \\  80, \\  31, \\  204, \\  214, \\  137, \\  22, \\  83, \\  95, \\  333, \\  173, \\  39, \\  124, \\  22, \\  327, \\  170, \\  138, \\  144, \\  91, \\  233, \\  121, \\  24, \\  242, \\  267, \\  25, \\  130, \\  56, \\  22, \\  332, \\  178, \\  202, \\  91, \\  56, \\  105, \\  151, \\  139, \\  172, \\  300, \\  30, \\  223, \\  149, \\  148, \\  137, \\  315, \\  255, \\  190, \\  288, \\  155, \\  98, \\  55, \\  88, \\  105, \\  126, \\  26, \\  84, \\  180, \\  244, \\  300, \\  85, \\  181, \\  91, \\  47, \\  235\\right]$"
     },
     "execution_count": 3,
     "metadata": {},
     "output_type": "execute_result"
    }
   ],
   "source": [
    "from examples.comparisons import ql_bfs_stat\n",
    "\n",
    "bfs_steps = list()\n",
    "for _ in tqdm(range(stat_cycle_num), desc=\"Cycle num\", unit=\"run\"):\n",
    "    with mp.Pool(mp.cpu_count()) as pool:\n",
    "        bfs_steps_cur = pool.map(ql_bfs_stat, range(mp.cpu_count()))\n",
    "        bfs_steps += bfs_steps_cur\n",
    "\n",
    "bfs_steps"
   ],
   "metadata": {
    "collapsed": false,
    "pycharm": {
     "name": "#%%\n"
    }
   }
  },
  {
   "cell_type": "code",
   "execution_count": 4,
   "outputs": [
    {
     "name": "stdout",
     "output_type": "stream",
     "text": [
      "BFS steps statistics:\n",
      "Range: [22, 337]\n",
      "Mean:  168.30833333333334\n",
      "Median:  159.0\n",
      "Standard deviation:  92.34471613049782\n"
     ]
    }
   ],
   "source": [
    "print(\"BFS steps statistics:\")\n",
    "print(f\"Range: [{np.min(bfs_steps)}, {np.max(bfs_steps)}]\")\n",
    "print(\"Mean: \", np.mean(bfs_steps))\n",
    "print(\"Median: \", np.median(bfs_steps))\n",
    "print(\"Standard deviation: \", np.std(bfs_steps))"
   ],
   "metadata": {
    "collapsed": false,
    "pycharm": {
     "name": "#%%\n"
    }
   }
  },
  {
   "cell_type": "code",
   "execution_count": 5,
   "outputs": [
    {
     "name": "stderr",
     "output_type": "stream",
     "text": [
      "Cycle num: 100%|██████████████████████████████████████████████████████████████████████| 10/10 [09:00<00:00, 54.07s/run]\n"
     ]
    },
    {
     "data": {
      "text/plain": "[343, 343, 343, 343, 343, 343, 343, 343, 343, 343, 343, 343, 343, 343, 343, 34\n3, 343, 343, 343, 343, 343, 343, 343, 343, 343, 343, 343, 343, 343, 343, 343, \n343, 343, 343, 343, 343, 343, 343, 343, 343, 343, 343, 343, 343, 343, 343, 343\n, 343, 343, 343, 343, 343, 343, 343, 343, 343, 343, 343, 343, 343, 343, 343, 3\n43, 343, 343, 343, 343, 343, 343, 343, 343, 343, 343, 343, 343, 343, 343, 343,\n 343, 343, 343, 343, 343, 343, 343, 343, 343, 343, 343, 343, 343, 343, 343, 34\n3, 343, 343, 343, 343, 343, 343, 343, 343, 343, 343, 343, 343, 343, 343, 343, \n343, 343, 343, 343, 343, 343, 343, 343, 343, 343, 343]",
      "image/png": "[encoded data removed]",
      "text/latex": "$\\displaystyle \\left[ 343, \\  343, \\  343, \\  343, \\  343, \\  343, \\  343, \\  343, \\  343, \\  343, \\  343, \\  343, \\  343, \\  343, \\  343, \\  343, \\  343, \\  343, \\  343, \\  343, \\  343, \\  343, \\  343, \\  343, \\  343, \\  343, \\  343, \\  343, \\  343, \\  343, \\  343, \\  343, \\  343, \\  343, \\  343, \\  343, \\  343, \\  343, \\  343, \\  343, \\  343, \\  343, \\  343, \\  343, \\  343, \\  343, \\  343, \\  343, \\  343, \\  343, \\  343, \\  343, \\  343, \\  343, \\  343, \\  343, \\  343, \\  343, \\  343, \\  343, \\  343, \\  343, \\  343, \\  343, \\  343, \\  343, \\  343, \\  343, \\  343, \\  343, \\  343, \\  343, \\  343, \\  343, \\  343, \\  343, \\  343, \\  343, \\  343, \\  343, \\  343, \\  343, \\  343, \\  343, \\  343, \\  343, \\  343, \\  343, \\  343, \\  343, \\  343, \\  343, \\  343, \\  343, \\  343, \\  343, \\  343, \\  343, \\  343, \\  343, \\  343, \\  343, \\  343, \\  343, \\  343, \\  343, \\  343, \\  343, \\  343, \\  343, \\  343, \\  343, \\  343, \\  343, \\  343, \\  343, \\  343, \\  343, \\  343, \\  343\\right]$"
     },
     "execution_count": 5,
     "metadata": {},
     "output_type": "execute_result"
    }
   ],
   "source": [
    "from examples.comparisons import ql_iddfs_1_stat\n",
    "\n",
    "iddfs_1_steps = list()\n",
    "for _ in tqdm(range(stat_cycle_num), desc=\"Cycle num\", unit=\"run\"):\n",
    "    with mp.Pool(mp.cpu_count()) as pool:\n",
    "        iddfs_1_steps_cur = pool.map(ql_iddfs_1_stat, range(mp.cpu_count()))\n",
    "        iddfs_1_steps += iddfs_1_steps_cur\n",
    "\n",
    "iddfs_1_steps"
   ],
   "metadata": {
    "collapsed": false,
    "pycharm": {
     "name": "#%%\n"
    }
   }
  },
  {
   "cell_type": "code",
   "execution_count": 6,
   "outputs": [
    {
     "name": "stdout",
     "output_type": "stream",
     "text": [
      "ID-DFS from 1 depth - steps statistics:\n",
      "Range: [343, 343]\n",
      "Mean:  343.0\n",
      "Median:  343.0\n",
      "Standard deviation:  0.0\n"
     ]
    }
   ],
   "source": [
    "print(\"ID-DFS from 1 depth - steps statistics:\")\n",
    "print(f\"Range: [{np.min(iddfs_1_steps)}, {np.max(iddfs_1_steps)}]\")\n",
    "print(\"Mean: \", np.mean(iddfs_1_steps))\n",
    "print(\"Median: \", np.median(iddfs_1_steps))\n",
    "print(\"Standard deviation: \", np.std(iddfs_1_steps))"
   ],
   "metadata": {
    "collapsed": false,
    "pycharm": {
     "name": "#%%\n"
    }
   }
  },
  {
   "cell_type": "code",
   "execution_count": 7,
   "outputs": [
    {
     "name": "stderr",
     "output_type": "stream",
     "text": [
      "Cycle num: 100%|██████████████████████████████████████████████████████████████████████| 10/10 [01:06<00:00,  6.67s/run]\n"
     ]
    },
    {
     "data": {
      "text/plain": "[12, 12, 12, 12, 12, 12, 12, 12, 12, 12, 12, 12, 12, 12, 12, 12, 12, 12, 12, 1\n2, 12, 12, 12, 12, 12, 12, 12, 12, 12, 12, 12, 12, 12, 12, 12, 12, 12, 12, 12,\n 12, 12, 12, 12, 12, 12, 12, 12, 12, 12, 12, 12, 12, 12, 12, 12, 12, 12, 12, 1\n2, 12, 12, 12, 12, 12, 12, 12, 12, 12, 12, 12, 12, 12, 12, 12, 12, 12, 12, 12,\n 12, 12, 12, 12, 12, 12, 12, 12, 12, 12, 12, 12, 12, 12, 12, 12, 12, 12, 12, 1\n2, 12, 12, 12, 12, 12, 12, 12, 12, 12, 12, 12, 12, 12, 12, 12, 12, 12, 12, 12,\n 12, 12, 12]",
      "image/png": "[encoded data removed]",
      "text/latex": "$\\displaystyle \\left[ 12, \\  12, \\  12, \\  12, \\  12, \\  12, \\  12, \\  12, \\  12, \\  12, \\  12, \\  12, \\  12, \\  12, \\  12, \\  12, \\  12, \\  12, \\  12, \\  12, \\  12, \\  12, \\  12, \\  12, \\  12, \\  12, \\  12, \\  12, \\  12, \\  12, \\  12, \\  12, \\  12, \\  12, \\  12, \\  12, \\  12, \\  12, \\  12, \\  12, \\  12, \\  12, \\  12, \\  12, \\  12, \\  12, \\  12, \\  12, \\  12, \\  12, \\  12, \\  12, \\  12, \\  12, \\  12, \\  12, \\  12, \\  12, \\  12, \\  12, \\  12, \\  12, \\  12, \\  12, \\  12, \\  12, \\  12, \\  12, \\  12, \\  12, \\  12, \\  12, \\  12, \\  12, \\  12, \\  12, \\  12, \\  12, \\  12, \\  12, \\  12, \\  12, \\  12, \\  12, \\  12, \\  12, \\  12, \\  12, \\  12, \\  12, \\  12, \\  12, \\  12, \\  12, \\  12, \\  12, \\  12, \\  12, \\  12, \\  12, \\  12, \\  12, \\  12, \\  12, \\  12, \\  12, \\  12, \\  12, \\  12, \\  12, \\  12, \\  12, \\  12, \\  12, \\  12, \\  12, \\  12, \\  12, \\  12, \\  12\\right]$"
     },
     "execution_count": 7,
     "metadata": {},
     "output_type": "execute_result"
    }
   ],
   "source": [
    "from examples.comparisons import ql_iddfs_2_stat\n",
    "\n",
    "iddfs_2_steps = list()\n",
    "for _ in tqdm(range(stat_cycle_num), desc=\"Cycle num\", unit=\"run\"):\n",
    "    with mp.Pool(mp.cpu_count()) as pool:\n",
    "        iddfs_2_steps_cur = pool.map(ql_iddfs_2_stat, range(mp.cpu_count()))\n",
    "        iddfs_2_steps += iddfs_2_steps_cur\n",
    "\n",
    "iddfs_2_steps"
   ],
   "metadata": {
    "collapsed": false,
    "pycharm": {
     "name": "#%%\n"
    }
   }
  },
  {
   "cell_type": "code",
   "execution_count": 8,
   "outputs": [
    {
     "name": "stdout",
     "output_type": "stream",
     "text": [
      "ID-DFS from 2 depth - steps statistics:\n",
      "Range: [12, 12]\n",
      "Mean:  12.0\n",
      "Median:  12.0\n",
      "Standard deviation:  0.0\n"
     ]
    }
   ],
   "source": [
    "print(\"ID-DFS from 2 depth - steps statistics:\")\n",
    "print(f\"Range: [{np.min(iddfs_2_steps)}, {np.max(iddfs_2_steps)}]\")\n",
    "print(\"Mean: \", np.mean(iddfs_2_steps))\n",
    "print(\"Median: \", np.median(iddfs_2_steps))\n",
    "print(\"Standard deviation: \", np.std(iddfs_2_steps))"
   ],
   "metadata": {
    "collapsed": false,
    "pycharm": {
     "name": "#%%\n"
    }
   }
  },
  {
   "cell_type": "markdown",
   "source": [
    "This distplot works poorly with deterministic heuristics. For later usage."
   ],
   "metadata": {
    "collapsed": false,
    "pycharm": {
     "name": "#%% md\n"
    }
   }
  },
  {
   "cell_type": "code",
   "execution_count": 13,
   "outputs": [
    {
     "name": "stderr",
     "output_type": "stream",
     "text": [
      "c:\\python\\lib\\site-packages\\seaborn\\distributions.py:288: UserWarning: Data must have variance to compute a kernel density estimate.\n",
      "  warnings.warn(msg, UserWarning)\n",
      "c:\\python\\lib\\site-packages\\seaborn\\distributions.py:288: UserWarning: Data must have variance to compute a kernel density estimate.\n",
      "  warnings.warn(msg, UserWarning)\n"
     ]
    },
    {
     "data": {
      "text/plain": "<Figure size 1080x864 with 1 Axes>",
      "image/png": "[encoded data removed]"
     },
     "metadata": {
      "needs_background": "light"
     },
     "output_type": "display_data"
    }
   ],
   "source": [
    "import matplotlib.pyplot as plt\n",
    "import seaborn as sns\n",
    "\n",
    "%matplotlib inline\n",
    "\n",
    "plt.rcParams.update({'font.size': 22})\n",
    "plt.figure(figsize=(15, 12))\n",
    "sns.distplot(bfs_steps, label=\"BFS\", bins=8, kde=True)\n",
    "sns.distplot(iddfs_1_steps,  label=\"ID-DFS-1\", bins=8, kde=True)\n",
    "sns.distplot(iddfs_2_steps,  label=\"ID-DFS-2\", bins=8, kde=True)\n",
    "plt.legend()\n",
    "plt.xlabel(\"Num of steps\")\n",
    "plt.title(\"Methods comparison\");\n",
    "\n"
   ],
   "metadata": {
    "collapsed": false,
    "pycharm": {
     "name": "#%%\n"
    }
   }
  }
 ],
 "metadata": {
  "kernelspec": {
   "name": "python3",
   "language": "python",
   "display_name": "Python 3"
  },
  "language_info": {
   "codemirror_mode": {
    "name": "ipython",
    "version": 2
   },
   "file_extension": ".py",
   "mimetype": "text/x-python",
   "name": "python",
   "nbconvert_exporter": "python",
   "pygments_lexer": "ipython2",
   "version": "2.7.6"
  }
 },
 "nbformat": 4,
 "nbformat_minor": 0
}