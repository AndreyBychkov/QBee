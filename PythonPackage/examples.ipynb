{
 "cells": [
  {
   "cell_type": "code",
   "execution_count": 1,
   "metadata": {
    "collapsed": true,
    "pycharm": {
     "is_executing": false,
     "name": "#%%\n"
    }
   },
   "outputs": [],
   "source": [
    "import sympy as sp\n",
    "from EquationSystem import EquationSystem\n",
    "from SymbolsHolder import *\n",
    "\n",
    "sp.init_printing()"
   ]
  },
  {
   "cell_type": "markdown",
   "source": [
    "# Simple equation polynomization"
   ],
   "metadata": {
    "collapsed": false,
    "pycharm": {
     "name": "#%% md\n"
    }
   }
  },
  {
   "cell_type": "markdown",
   "source": [
    "### Algebraic"
   ],
   "metadata": {
    "collapsed": false,
    "pycharm": {
     "name": "#%% md\n"
    }
   }
  },
  {
   "cell_type": "code",
   "execution_count": 2,
   "outputs": [
    {
     "data": {
      "text/plain": "⎡          sin(x)⎤\n⎣\\dot x = ℯ      ⎦",
      "image/png": "[encoded data removed]",
      "text/latex": "$\\displaystyle \\left[ \\dot x = e^{\\sin{\\left(x \\right)}}\\right]$"
     },
     "metadata": {},
     "output_type": "execute_result",
     "execution_count": 2
    }
   ],
   "source": [
    "x = sp.Symbol('x')\n",
    "dot_x = make_derivative_symbol(x)\n",
    "\n",
    "system = EquationSystem([\n",
    "    sp.Eq(dot_x, sp.exp(sp.sin(x)))\n",
    "])\n",
    "system.equations"
   ],
   "metadata": {
    "collapsed": false,
    "pycharm": {
     "name": "#%%\n",
     "is_executing": false
    }
   }
  },
  {
   "cell_type": "code",
   "execution_count": 3,
   "outputs": [
    {
     "data": {
      "text/plain": "⎡                                y₀⎤\n⎣\\dot x = y₁, y₀ = sin(x), y₁ = ℯ  ⎦",
      "image/png": "[encoded data removed]",
      "text/latex": "$\\displaystyle \\left[ \\dot x = y_{1}, \\  y_{0} = \\sin{\\left(x \\right)}, \\  y_{1} = e^{y_{0}}\\right]$"
     },
     "metadata": {},
     "output_type": "execute_result",
     "execution_count": 3
    }
   ],
   "source": [
    "system.polynomize('algebraic')\n",
    "\n",
    "system.equations"
   ],
   "metadata": {
    "collapsed": false,
    "pycharm": {
     "name": "#%%\n",
     "is_executing": false
    }
   }
  },
  {
   "cell_type": "markdown",
   "source": [
    "### Differential"
   ],
   "metadata": {
    "collapsed": false,
    "pycharm": {
     "name": "#%% md\n"
    }
   }
  },
  {
   "cell_type": "code",
   "execution_count": 4,
   "outputs": [
    {
     "data": {
      "text/plain": "⎡          sin(x)⎤\n⎣\\dot x = ℯ      ⎦",
      "image/png": "[encoded data removed]",
      "text/latex": "$\\displaystyle \\left[ \\dot x = e^{\\sin{\\left(x \\right)}}\\right]$"
     },
     "metadata": {},
     "output_type": "execute_result",
     "execution_count": 4
    }
   ],
   "source": [
    "x = sp.Symbol('x')\n",
    "dot_x = make_derivative_symbol(x)\n",
    "\n",
    "system = EquationSystem([\n",
    "    sp.Eq(dot_x, sp.exp(sp.sin(x)))\n",
    "])\n",
    "system.equations"
   ],
   "metadata": {
    "collapsed": false,
    "pycharm": {
     "name": "#%%\n",
     "is_executing": false
    }
   }
  },
  {
   "cell_type": "code",
   "execution_count": 5,
   "outputs": [
    {
     "data": {
      "text/plain": "⎡                                          2                     ⎤\n⎣\\dot x = y₁, \\dot y₀ = y₁⋅y₂, \\dot y₁ = y₁ ⋅y₂, \\dot y₂ = -y₀⋅y₁⎦",
      "image/png": "[encoded data removed]",
      "text/latex": "$\\displaystyle \\left[ \\dot x = y_{1}, \\  \\dot y_0 = y_{1} y_{2}, \\  \\dot y_1 = y_{1}^{2} y_{2}, \\  \\dot y_2 = - y_{0} y_{1}\\right]$"
     },
     "metadata": {},
     "output_type": "execute_result",
     "execution_count": 5
    }
   ],
   "source": [
    "system.polynomize('differential')\n",
    "\n",
    "system.equations\n"
   ],
   "metadata": {
    "collapsed": false,
    "pycharm": {
     "name": "#%%\n",
     "is_executing": false
    }
   }
  },
  {
   "cell_type": "markdown",
   "source": [
    "# Complex equation polynomization"
   ],
   "metadata": {
    "collapsed": false,
    "pycharm": {
     "name": "#%% md\n",
     "is_executing": false
    }
   }
  },
  {
   "cell_type": "markdown",
   "source": [
    "### Algebraic"
   ],
   "metadata": {
    "collapsed": false,
    "pycharm": {
     "name": "#%% md\n"
    }
   }
  },
  {
   "cell_type": "code",
   "execution_count": 6,
   "outputs": [
    {
     "data": {
      "text/plain": "⎡          8      y                                  2               cos(x)   \n⎣\\dot x = x  + y⋅ℯ  + sin(x)⋅cos(x) - 1, \\dot y = - y ⋅sin(x) + y - ℯ       + \n\n ⎤\n1⎦",
      "image/png": "[encoded data removed]",
      "text/latex": "$\\displaystyle \\left[ \\dot x = x^{8} + y e^{y} + \\sin{\\left(x \\right)} \\cos{\\left(x \\right)} - 1, \\  \\dot y = - y^{2} \\sin{\\left(x \\right)} + y - e^{\\cos{\\left(x \\right)}} + 1\\right]$"
     },
     "metadata": {},
     "output_type": "execute_result",
     "execution_count": 6
    }
   ],
   "source": [
    "x, y = sp.symbols('x, y')\n",
    "dot_x = make_derivative_symbol(x)\n",
    "dot_y = make_derivative_symbol(y)\n",
    "\n",
    "system = EquationSystem([\n",
    "    sp.Eq(dot_x, x**8 + sp.sin(x)*sp.cos(x) + y*sp.exp(y) - 1),\n",
    "    sp.Eq(dot_y, y + 1 - y**2 * sp.sin(x) - sp.exp(sp.cos(x)))\n",
    "])\n",
    "\n",
    "system.equations"
   ],
   "metadata": {
    "collapsed": false,
    "pycharm": {
     "name": "#%%\n",
     "is_executing": false
    }
   }
  },
  {
   "cell_type": "code",
   "execution_count": 7,
   "outputs": [
    {
     "data": {
      "text/plain": "⎡          8                                 2                        y       \n⎣\\dot x = x  + y⋅y₀ + y₁⋅y₂ - 1, \\dot y = - y ⋅y₂ + y - y₃ + 1, y₀ = ℯ , y₁ = \n\n                           y₁⎤\ncos(x), y₂ = sin(x), y₃ = ℯ  ⎦",
      "image/png": "[encoded data removed]",
      "text/latex": "$\\displaystyle \\left[ \\dot x = x^{8} + y y_{0} + y_{1} y_{2} - 1, \\  \\dot y = - y^{2} y_{2} + y - y_{3} + 1, \\  y_{0} = e^{y}, \\  y_{1} = \\cos{\\left(x \\right)}, \\  y_{2} = \\sin{\\left(x \\right)}, \\  y_{3} = e^{y_{1}}\\right]$"
     },
     "metadata": {},
     "output_type": "execute_result",
     "execution_count": 7
    }
   ],
   "source": [
    "system.polynomize(\"algebraic\")\n",
    "\n",
    "system.equations\n"
   ],
   "metadata": {
    "collapsed": false,
    "pycharm": {
     "name": "#%%\n",
     "is_executing": false
    }
   }
  },
  {
   "cell_type": "markdown",
   "source": [
    "### Differential"
   ],
   "metadata": {
    "collapsed": false,
    "pycharm": {
     "name": "#%% md\n"
    }
   }
  },
  {
   "cell_type": "code",
   "execution_count": 8,
   "outputs": [
    {
     "data": {
      "text/plain": "⎡          8      y                                  2               cos(x)   \n⎣\\dot x = x  + y⋅ℯ  + sin(x)⋅cos(x) - 1, \\dot y = - y ⋅sin(x) + y - ℯ       + \n\n ⎤\n1⎦",
      "image/png": "[encoded data removed]",
      "text/latex": "$\\displaystyle \\left[ \\dot x = x^{8} + y e^{y} + \\sin{\\left(x \\right)} \\cos{\\left(x \\right)} - 1, \\  \\dot y = - y^{2} \\sin{\\left(x \\right)} + y - e^{\\cos{\\left(x \\right)}} + 1\\right]$"
     },
     "metadata": {},
     "output_type": "execute_result",
     "execution_count": 8
    }
   ],
   "source": [
    "x, y = sp.symbols('x, y')\n",
    "dot_x = make_derivative_symbol(x)\n",
    "dot_y = make_derivative_symbol(y)\n",
    "\n",
    "system = EquationSystem([\n",
    "    sp.Eq(dot_x, x**8 + sp.sin(x)*sp.cos(x) + y*sp.exp(y) - 1),\n",
    "    sp.Eq(dot_y, y + 1 - y**2 * sp.sin(x) - sp.exp(sp.cos(x)))\n",
    "])\n",
    "\n",
    "system.equations"
   ],
   "metadata": {
    "collapsed": false,
    "pycharm": {
     "name": "#%%\n",
     "is_executing": false
    }
   }
  },
  {
   "cell_type": "code",
   "execution_count": 9,
   "outputs": [
    {
     "data": {
      "text/plain": "⎡          8                                 2                               ⎛\n⎣\\dot x = x  + y⋅y₀ + y₁⋅y₂ - 1, \\dot y = - y ⋅y₂ + y - y₃ + 1, \\dot y₀ = y₀⋅⎝\n\n   2                ⎞                ⎛ 8                   ⎞               ⎛ 8\n- y ⋅y₂ + y - y₃ + 1⎠, \\dot y₁ = -y₂⋅⎝x  + y⋅y₀ + y₁⋅y₂ - 1⎠, \\dot y₂ = y₁⋅⎝x \n\n                   ⎞                   ⎛ 8                   ⎞⎤\n + y⋅y₀ + y₁⋅y₂ - 1⎠, \\dot y₃ = -y₂⋅y₃⋅⎝x  + y⋅y₀ + y₁⋅y₂ - 1⎠⎦",
      "image/png": "[encoded data removed]",
      "text/latex": "$\\displaystyle \\left[ \\dot x = x^{8} + y y_{0} + y_{1} y_{2} - 1, \\  \\dot y = - y^{2} y_{2} + y - y_{3} + 1, \\  \\dot y_0 = y_{0} \\left(- y^{2} y_{2} + y - y_{3} + 1\\right), \\  \\dot y_1 = - y_{2} \\left(x^{8} + y y_{0} + y_{1} y_{2} - 1\\right), \\  \\dot y_2 = y_{1} \\left(x^{8} + y y_{0} + y_{1} y_{2} - 1\\right), \\  \\dot y_3 = - y_{2} y_{3} \\left(x^{8} + y y_{0} + y_{1} y_{2} - 1\\right)\\right]$"
     },
     "metadata": {},
     "output_type": "execute_result",
     "execution_count": 9
    }
   ],
   "source": [
    "system.polynomize(\"differential\")\n",
    "\n",
    "system.equations"
   ],
   "metadata": {
    "collapsed": false,
    "pycharm": {
     "name": "#%%\n",
     "is_executing": false
    }
   }
  },
  {
   "cell_type": "code",
   "execution_count": 10,
   "outputs": [
    {
     "data": {
      "text/plain": "⎡      y                                  y₁⎤\n⎣y₀ = ℯ , y₁ = cos(x), y₂ = sin(x), y₃ = ℯ  ⎦",
      "image/png": "[encoded data removed]",
      "text/latex": "$\\displaystyle \\left[ y_{0} = e^{y}, \\  y_{1} = \\cos{\\left(x \\right)}, \\  y_{2} = \\sin{\\left(x \\right)}, \\  y_{3} = e^{y_{1}}\\right]$"
     },
     "metadata": {},
     "output_type": "execute_result",
     "execution_count": 10
    }
   ],
   "source": [
    "system._replacement_equations"
   ],
   "metadata": {
    "collapsed": false,
    "pycharm": {
     "name": "#%%\n",
     "is_executing": false
    }
   }
  },
  {
   "cell_type": "markdown",
   "source": [
    "# Multi-variable equation polynomization"
   ],
   "metadata": {
    "collapsed": false,
    "pycharm": {
     "name": "#%% md\n"
    }
   }
  },
  {
   "cell_type": "markdown",
   "source": [
    "### Algebraic"
   ],
   "metadata": {
    "collapsed": false
   }
  },
  {
   "cell_type": "code",
   "execution_count": 11,
   "outputs": [
    {
     "data": {
      "text/plain": "⎡          x⋅y                 ⎤\n⎣\\dot x = ℯ   , \\dot y = sin(x)⎦",
      "image/png": "[encoded data removed]",
      "text/latex": "$\\displaystyle \\left[ \\dot x = e^{x y}, \\  \\dot y = \\sin{\\left(x \\right)}\\right]$"
     },
     "metadata": {},
     "output_type": "execute_result",
     "execution_count": 11
    }
   ],
   "source": [
    "x, y, = sp.symbols('x, y')\n",
    "dot_x = make_derivative_symbol(x)\n",
    "dot_y = make_derivative_symbol(y)\n",
    "\n",
    "system = EquationSystem([\n",
    "    sp.Eq(dot_x, sp.exp(x*y)),\n",
    "    sp.Eq(dot_y, sp.sin(x))\n",
    "])\n",
    "\n",
    "system.equations"
   ],
   "metadata": {
    "collapsed": false,
    "pycharm": {
     "name": "#%% \n",
     "is_executing": false
    }
   }
  },
  {
   "cell_type": "code",
   "execution_count": 12,
   "outputs": [
    {
     "data": {
      "text/plain": "⎡                                x⋅y             ⎤\n⎣\\dot x = y₀, \\dot y = y₁, y₀ = ℯ   , y₁ = sin(x)⎦",
      "image/png": "[encoded data removed]",
      "text/latex": "$\\displaystyle \\left[ \\dot x = y_{0}, \\  \\dot y = y_{1}, \\  y_{0} = e^{x y}, \\  y_{1} = \\sin{\\left(x \\right)}\\right]$"
     },
     "metadata": {},
     "output_type": "execute_result",
     "execution_count": 12
    }
   ],
   "source": [
    "system.polynomize('algebraic')\n",
    "system.equations"
   ],
   "metadata": {
    "collapsed": false,
    "pycharm": {
     "name": "#%%\n",
     "is_executing": false
    }
   }
  },
  {
   "cell_type": "markdown",
   "source": [
    "### Differential"
   ],
   "metadata": {
    "collapsed": false,
    "pycharm": {
     "name": "#%% md\n"
    }
   }
  },
  {
   "cell_type": "code",
   "execution_count": 13,
   "outputs": [
    {
     "data": {
      "text/plain": "⎡          x⋅y                 ⎤\n⎣\\dot x = ℯ   , \\dot y = sin(x)⎦",
      "image/png": "[encoded data removed]",
      "text/latex": "$\\displaystyle \\left[ \\dot x = e^{x y}, \\  \\dot y = \\sin{\\left(x \\right)}\\right]$"
     },
     "metadata": {},
     "output_type": "execute_result",
     "execution_count": 13
    }
   ],
   "source": [
    "x, y, = sp.symbols('x, y')\n",
    "dot_x = make_derivative_symbol(x)\n",
    "dot_y = make_derivative_symbol(y)\n",
    "\n",
    "system = EquationSystem([\n",
    "    sp.Eq(dot_x, sp.exp(x*y)),\n",
    "    sp.Eq(dot_y, sp.sin(x))\n",
    "])\n",
    "\n",
    "system.equations"
   ],
   "metadata": {
    "collapsed": false,
    "pycharm": {
     "name": "#%% \n",
     "is_executing": false
    }
   }
  },
  {
   "cell_type": "code",
   "execution_count": 14,
   "outputs": [
    {
     "data": {
      "text/plain": "⎡                                      2                                      \n⎣\\dot x = y₀, \\dot y = y₁, \\dot y₀ = y₀ ⋅y₁⋅(x⋅y + 1), \\dot y₁ = y₀⋅y₂, \\dot y\n\n          ⎤\n₂ = -y₀⋅y₁⎦",
      "image/png": "[encoded data removed]",
      "text/latex": "$\\displaystyle \\left[ \\dot x = y_{0}, \\  \\dot y = y_{1}, \\  \\dot y_0 = y_{0}^{2} y_{1} \\left(x y + 1\\right), \\  \\dot y_1 = y_{0} y_{2}, \\  \\dot y_2 = - y_{0} y_{1}\\right]$"
     },
     "metadata": {},
     "output_type": "execute_result",
     "execution_count": 14
    }
   ],
   "source": [
    "system.polynomize('differential')\n",
    "system.equations\n"
   ],
   "metadata": {
    "collapsed": false,
    "pycharm": {
     "name": "#%%\n",
     "is_executing": false
    }
   }
  }
 ],
 "metadata": {
  "kernelspec": {
   "display_name": "Python 3",
   "language": "python",
   "name": "python3"
  },
  "language_info": {
   "codemirror_mode": {
    "name": "ipython",
    "version": 2
   },
   "file_extension": ".py",
   "mimetype": "text/x-python",
   "name": "python",
   "nbconvert_exporter": "python",
   "pygments_lexer": "ipython2",
   "version": "2.7.6"
  },
  "pycharm": {
   "stem_cell": {
    "cell_type": "raw",
    "source": [],
    "metadata": {
     "collapsed": false
    }
   }
  }
 },
 "nbformat": 4,
 "nbformat_minor": 0
}